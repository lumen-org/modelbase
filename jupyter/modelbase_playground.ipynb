{
 "cells": [
  {
   "cell_type": "markdown",
   "metadata": {},
   "source": [
    "## Playground for querying a modelbase without a webserver"
   ]
  },
  {
   "cell_type": "code",
   "execution_count": 1,
   "metadata": {},
   "outputs": [],
   "source": [
    "%load_ext autoreload\n",
    "%autoreload 2"
   ]
  },
  {
   "cell_type": "code",
   "execution_count": 7,
   "outputs": [
    {
     "name": "stderr",
     "output_type": "stream",
     "text": [
      "[autoreload of mb.modelbase.modelbase.cache failed: Traceback (most recent call last):\n",
      "  File \"/home/luca_ph/venv/modelbase_venv/lib/python3.6/site-packages/IPython/extensions/autoreload.py\", line 244, in check\n",
      "    superreload(m, reload, self.old_objects)\n",
      "  File \"/home/luca_ph/venv/modelbase_venv/lib/python3.6/site-packages/IPython/extensions/autoreload.py\", line 374, in superreload\n",
      "    module = reload(module)\n",
      "  File \"/usr/lib/python3.6/imp.py\", line 315, in reload\n",
      "    return importlib.reload(module)\n",
      "  File \"/usr/lib/python3.6/importlib/__init__.py\", line 159, in reload\n",
      "    name=parent_name) from None\n",
      "ImportError: parent 'mb.modelbase.modelbase' not in sys.modules\n",
      "]\n",
      "[autoreload of mb.modelbase.modelbase.utils failed: Traceback (most recent call last):\n",
      "  File \"/home/luca_ph/venv/modelbase_venv/lib/python3.6/site-packages/IPython/extensions/autoreload.py\", line 244, in check\n",
      "    superreload(m, reload, self.old_objects)\n",
      "  File \"/home/luca_ph/venv/modelbase_venv/lib/python3.6/site-packages/IPython/extensions/autoreload.py\", line 374, in superreload\n",
      "    module = reload(module)\n",
      "  File \"/usr/lib/python3.6/imp.py\", line 315, in reload\n",
      "    return importlib.reload(module)\n",
      "  File \"/usr/lib/python3.6/importlib/__init__.py\", line 159, in reload\n",
      "    name=parent_name) from None\n",
      "ImportError: parent 'mb.modelbase.modelbase' not in sys.modules\n",
      "]\n"
     ]
    },
    {
     "ename": "ImportError",
     "evalue": "cannot import name 'no_nan'",
     "output_type": "error",
     "traceback": [
      "\u001B[0;31m---------------------------------------------------------------------------\u001B[0m",
      "\u001B[0;31mImportError\u001B[0m                               Traceback (most recent call last)",
      "\u001B[0;32m<ipython-input-7-6df3be243b1a>\u001B[0m in \u001B[0;36m<module>\u001B[0;34m\u001B[0m\n\u001B[1;32m      1\u001B[0m \u001B[0;32mimport\u001B[0m \u001B[0mjson\u001B[0m\u001B[0;34m\u001B[0m\u001B[0;34m\u001B[0m\u001B[0m\n\u001B[0;32m----> 2\u001B[0;31m \u001B[0;32mfrom\u001B[0m \u001B[0mmb\u001B[0m\u001B[0;34m.\u001B[0m\u001B[0mmodelbase\u001B[0m \u001B[0;32mimport\u001B[0m \u001B[0mmodelbase\u001B[0m\u001B[0;34m\u001B[0m\u001B[0;34m\u001B[0m\u001B[0m\n\u001B[0m\u001B[1;32m      3\u001B[0m \u001B[0mmb\u001B[0m \u001B[0;34m=\u001B[0m \u001B[0mmodelbase\u001B[0m\u001B[0;34m.\u001B[0m\u001B[0mModelBase\u001B[0m\u001B[0;34m(\u001B[0m\u001B[0mname\u001B[0m\u001B[0;34m=\u001B[0m\u001B[0;34m\"kindergarden\"\u001B[0m\u001B[0;34m,\u001B[0m \u001B[0mmodel_dir\u001B[0m\u001B[0;34m=\u001B[0m\u001B[0;34m'./data_models'\u001B[0m\u001B[0;34m)\u001B[0m\u001B[0;34m\u001B[0m\u001B[0;34m\u001B[0m\u001B[0m\n\u001B[1;32m      4\u001B[0m \u001B[0;34m\u001B[0m\u001B[0m\n",
      "\u001B[0;32m~/Documents/projects/graphical_models/code/modelbase/mb/modelbase/modelbase/__init__.py\u001B[0m in \u001B[0;36m<module>\u001B[0;34m\u001B[0m\n\u001B[1;32m      1\u001B[0m \u001B[0;32mfrom\u001B[0m \u001B[0mmb\u001B[0m\u001B[0;34m.\u001B[0m\u001B[0mmodelbase\u001B[0m\u001B[0;34m.\u001B[0m\u001B[0mmodelbase\u001B[0m\u001B[0;34m.\u001B[0m\u001B[0mcache\u001B[0m \u001B[0;32mimport\u001B[0m \u001B[0;34m*\u001B[0m\u001B[0;34m\u001B[0m\u001B[0;34m\u001B[0m\u001B[0m\n\u001B[1;32m      2\u001B[0m \u001B[0;32mfrom\u001B[0m \u001B[0mmb\u001B[0m\u001B[0;34m.\u001B[0m\u001B[0mmodelbase\u001B[0m\u001B[0;34m.\u001B[0m\u001B[0mmodelbase\u001B[0m\u001B[0;34m.\u001B[0m\u001B[0meval\u001B[0m \u001B[0;32mimport\u001B[0m \u001B[0;34m*\u001B[0m\u001B[0;34m\u001B[0m\u001B[0;34m\u001B[0m\u001B[0m\n\u001B[0;32m----> 3\u001B[0;31m \u001B[0;32mfrom\u001B[0m \u001B[0mmb\u001B[0m\u001B[0;34m.\u001B[0m\u001B[0mmodelbase\u001B[0m\u001B[0;34m.\u001B[0m\u001B[0mmodelbase\u001B[0m\u001B[0;34m.\u001B[0m\u001B[0mcore\u001B[0m \u001B[0;32mimport\u001B[0m \u001B[0;34m*\u001B[0m\u001B[0;34m\u001B[0m\u001B[0;34m\u001B[0m\u001B[0m\n\u001B[0m\u001B[1;32m      4\u001B[0m \u001B[0;32mfrom\u001B[0m \u001B[0mmb\u001B[0m\u001B[0;34m.\u001B[0m\u001B[0mmodelbase\u001B[0m\u001B[0;34m.\u001B[0m\u001B[0mmodelbase\u001B[0m\u001B[0;34m.\u001B[0m\u001B[0mserver\u001B[0m \u001B[0;32mimport\u001B[0m \u001B[0;34m*\u001B[0m\u001B[0;34m\u001B[0m\u001B[0;34m\u001B[0m\u001B[0m\n\u001B[1;32m      5\u001B[0m \u001B[0;32mfrom\u001B[0m \u001B[0mmb\u001B[0m\u001B[0;34m.\u001B[0m\u001B[0mmodelbase\u001B[0m\u001B[0;34m.\u001B[0m\u001B[0mmodelbase\u001B[0m\u001B[0;34m.\u001B[0m\u001B[0mutils\u001B[0m \u001B[0;32mimport\u001B[0m \u001B[0;34m*\u001B[0m\u001B[0;34m\u001B[0m\u001B[0;34m\u001B[0m\u001B[0m\n",
      "\u001B[0;32m~/Documents/projects/graphical_models/code/modelbase/mb/modelbase/modelbase/core/__init__.py\u001B[0m in \u001B[0;36m<module>\u001B[0;34m\u001B[0m\n\u001B[1;32m      3\u001B[0m \u001B[0;32mfrom\u001B[0m \u001B[0;34m.\u001B[0m\u001B[0mcategoricals\u001B[0m \u001B[0;32mimport\u001B[0m \u001B[0;34m*\u001B[0m\u001B[0;34m\u001B[0m\u001B[0;34m\u001B[0m\u001B[0m\n\u001B[1;32m      4\u001B[0m \u001B[0;32mfrom\u001B[0m \u001B[0;34m.\u001B[0m\u001B[0mcond_gaussian_fitting\u001B[0m \u001B[0;32mimport\u001B[0m \u001B[0;34m*\u001B[0m\u001B[0;34m\u001B[0m\u001B[0;34m\u001B[0m\u001B[0m\n\u001B[0;32m----> 5\u001B[0;31m \u001B[0;32mfrom\u001B[0m \u001B[0;34m.\u001B[0m\u001B[0mcond_gaussian_wm\u001B[0m \u001B[0;32mimport\u001B[0m \u001B[0;34m*\u001B[0m\u001B[0;34m\u001B[0m\u001B[0;34m\u001B[0m\u001B[0m\n\u001B[0m\u001B[1;32m      6\u001B[0m \u001B[0;32mfrom\u001B[0m \u001B[0;34m.\u001B[0m\u001B[0mcond_gaussians\u001B[0m \u001B[0;32mimport\u001B[0m \u001B[0;34m*\u001B[0m\u001B[0;34m\u001B[0m\u001B[0;34m\u001B[0m\u001B[0m\n\u001B[1;32m      7\u001B[0m \u001B[0;32mfrom\u001B[0m \u001B[0;34m.\u001B[0m\u001B[0mdata_aggregation\u001B[0m \u001B[0;32mimport\u001B[0m \u001B[0;34m*\u001B[0m\u001B[0;34m\u001B[0m\u001B[0;34m\u001B[0m\u001B[0m\n",
      "\u001B[0;32m~/Documents/projects/graphical_models/code/modelbase/mb/modelbase/modelbase/core/cond_gaussian_wm.py\u001B[0m in \u001B[0;36m<module>\u001B[0;34m\u001B[0m\n\u001B[1;32m      8\u001B[0m \u001B[0;34m\u001B[0m\u001B[0m\n\u001B[1;32m      9\u001B[0m \u001B[0;32mfrom\u001B[0m \u001B[0mmb\u001B[0m\u001B[0;34m.\u001B[0m\u001B[0mmodelbase\u001B[0m\u001B[0;34m.\u001B[0m\u001B[0mmodelbase\u001B[0m \u001B[0;32mimport\u001B[0m \u001B[0mutils\u001B[0m \u001B[0;32mas\u001B[0m \u001B[0mutils\u001B[0m\u001B[0;34m\u001B[0m\u001B[0;34m\u001B[0m\u001B[0m\n\u001B[0;32m---> 10\u001B[0;31m \u001B[0;32mfrom\u001B[0m \u001B[0mmb\u001B[0m\u001B[0;34m.\u001B[0m\u001B[0mmodelbase\u001B[0m \u001B[0;32mimport\u001B[0m \u001B[0mno_nan\u001B[0m\u001B[0;34m\u001B[0m\u001B[0;34m\u001B[0m\u001B[0m\n\u001B[0m\u001B[1;32m     11\u001B[0m \u001B[0;32mfrom\u001B[0m \u001B[0mmb\u001B[0m\u001B[0;34m.\u001B[0m\u001B[0mmodelbase\u001B[0m\u001B[0;34m.\u001B[0m\u001B[0mmodelbase\u001B[0m\u001B[0;34m.\u001B[0m\u001B[0mcore\u001B[0m \u001B[0;32mimport\u001B[0m \u001B[0mcond_gaussian_fitting\u001B[0m \u001B[0;32mas\u001B[0m \u001B[0mcgf\u001B[0m\u001B[0;34m,\u001B[0m \u001B[0mmodels\u001B[0m \u001B[0;32mas\u001B[0m \u001B[0mmd\u001B[0m\u001B[0;34m\u001B[0m\u001B[0;34m\u001B[0m\u001B[0m\n\u001B[1;32m     12\u001B[0m \u001B[0;32mfrom\u001B[0m \u001B[0mmb\u001B[0m\u001B[0;34m.\u001B[0m\u001B[0mmodelbase\u001B[0m \u001B[0;32mimport\u001B[0m \u001B[0mcond_gaussians\u001B[0m \u001B[0;32mas\u001B[0m \u001B[0mcg\u001B[0m\u001B[0;34m\u001B[0m\u001B[0;34m\u001B[0m\u001B[0m\n",
      "\u001B[0;31mImportError\u001B[0m: cannot import name 'no_nan'"
     ]
    }
   ],
   "source": [
    "import json\n",
    "from mb.modelbase import modelbase\n",
    "mb = modelbase.ModelBase(name=\"kindergarden\", model_dir='./data_models')"
   ],
   "metadata": {
    "collapsed": false,
    "pycharm": {
     "name": "#%%\n"
    }
   }
  },
  {
   "cell_type": "code",
   "execution_count": 12,
   "metadata": {},
   "outputs": [],
   "source": [
    "query = {\n",
    "    'FROM': 'mcg_iris_map',\n",
    "    'PCI_GRAPH.GET': True,\n",
    "}\n",
    "result = mb.execute(query)"
   ]
  },
  {
   "cell_type": "code",
   "execution_count": 14,
   "metadata": {},
   "outputs": [
    {
     "name": "stdout",
     "output_type": "stream",
     "text": [
      "{\n",
      "   \"graph\": {\n",
      "      \"edges\": [\n",
      "         {\n",
      "            \"source\": \"species\",\n",
      "            \"target\": \"sepal_width\",\n",
      "            \"weight\": 0.6502314856724126\n",
      "         },\n",
      "         {\n",
      "            \"source\": \"species\",\n",
      "            \"target\": \"petal_length\",\n",
      "            \"weight\": 0.1978075960679807\n",
      "         },\n",
      "         {\n",
      "            \"source\": \"species\",\n",
      "            \"target\": \"petal_width\",\n",
      "            \"weight\": 1.6045693081992065\n",
      "         },\n",
      "         {\n",
      "            \"source\": \"sepal_length\",\n",
      "            \"target\": \"sepal_width\",\n",
      "            \"weight\": 0.156489367995165\n",
      "         },\n",
      "         {\n",
      "            \"source\": \"sepal_length\",\n",
      "            \"target\": \"petal_length\",\n",
      "            \"weight\": 1.5257422773999083\n",
      "         },\n",
      "         {\n",
      "            \"source\": \"sepal_width\",\n",
      "            \"target\": \"petal_length\",\n",
      "            \"weight\": 0.36782718736054554\n",
      "         },\n",
      "         {\n",
      "            \"source\": \"petal_length\",\n",
      "            \"target\": \"petal_width\",\n",
      "            \"weight\": 2.3432111932318302\n",
      "         }\n",
      "      ],\n",
      "      \"nodes\": {\n",
      "         \"0\": \"species\",\n",
      "         \"1\": \"sepal_length\",\n",
      "         \"2\": \"sepal_width\",\n",
      "         \"3\": \"petal_length\",\n",
      "         \"4\": \"petal_width\"\n",
      "      }\n",
      "   },\n",
      "   \"model\": \"mcg_iris_map\"\n",
      "}\n"
     ]
    }
   ],
   "source": [
    "parsed = json.loads(result)\n",
    "print(json.dumps(parsed, indent=3, sort_keys=True))"
   ]
  }
 ],
 "metadata": {
  "kernelspec": {
   "display_name": "Python 3",
   "language": "python",
   "name": "python3"
  },
  "language_info": {
   "codemirror_mode": {
    "name": "ipython",
    "version": 3
   },
   "file_extension": ".py",
   "mimetype": "text/x-python",
   "name": "python",
   "nbconvert_exporter": "python",
   "pygments_lexer": "ipython3",
   "version": "3.6.6"
  }
 },
 "nbformat": 4,
 "nbformat_minor": 2
}