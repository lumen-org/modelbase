{
 "cells": [
  {
   "cell_type": "markdown",
   "metadata": {},
   "source": [
    "## Batch Learning of Models\n",
    "\n",
    "You can batch learn models from data by means of a specification dictionary and with the utility functions in `fit_models.py`.\n",
    "\n",
    "Here is the docs:"
   ]
  },
  {
   "cell_type": "code",
   "execution_count": 3,
   "metadata": {
    "scrolled": true
   },
   "outputs": [
    {
     "name": "stdout",
     "output_type": "stream",
     "text": [
      "Fits models according to provided specs and returns a dict of the learned models.\n",
      "\n",
      "    Args:\n",
      "        spec (dict): Dictionary of <name> to model specifications. A single model specification may either be a dict or\n",
      "            a callable (no arguments) that returns a dict. Either way, the configuration dict is as follows:\n",
      "                * 'class': Usually <class-object of model> but can be any function that returns a model when called.\n",
      "                * 'data': Optional. The data frame of data to use for fitting. If not spefified the 'class' is expected\n",
      "                    to return a fitted model.\n",
      "                * 'classopts': Optional. A dict passed as keyword-arguments to 'class'.\n",
      "                * 'fitopts': Optional. A dict passed as keyword-arguments to the .fit method of the created model\n",
      "                    instance.\n",
      "            The idea of the callable is that delay data acquisition until model selection.\n",
      "        verbose (bool): Optional. Defaults to False. More verbose logging iff set to true.\n",
      "        include (list-like of strings): Optional. Defaults to None. List of models to explicitly include. By default\n",
      "            all are included.\n",
      "        exclude (list-like of strings): Optional. Defaults to None. List of models to explicitly exclude. By default\n",
      "            none are excluded.\n",
      "\n",
      "    Returns: A dict of <name> to dict of 'model' that contains the learned model, status that contains the status\n",
      "        ('SUCCESS' or 'FAIL') and message that contains an optional message explaining the status.\n",
      "    \n"
     ]
    }
   ],
   "source": [
    "import pandas as pd\n",
    "from mb_modelbase.utils import fit_models\n",
    "\n",
    "print(fit_models.__doc__)\n",
    "# it should also pop up at the bottom on execution of this cell:\n",
    "fit_models??"
   ]
  },
  {
   "cell_type": "markdown",
   "metadata": {},
   "source": [
    "Here, we will specify to learn 3 models from the data in `./data`, as follows:"
   ]
  },
  {
   "cell_type": "code",
   "execution_count": 4,
   "metadata": {},
   "outputs": [],
   "source": [
    "# import various model types\n",
    "from mb_modelbase.models_core.mixable_cond_gaussian import MixableCondGaussianModel\n",
    "from mb_modelbase.models_core.spnmodel import SPNModel\n",
    "from mb_modelbase.models_core.empirical_model import EmpiricalModel\n",
    "\n",
    "# titanic.py provides preprocessing of the titanic data set\n",
    "import data.titanic as titanic\n",
    "\n",
    "# actual specifications\n",
    "specs = {\n",
    "    'emp_iris': {'class': EmpiricalModel, 'data': pd.read_csv('./data/iris.csv')},\n",
    "    'mcg_iris': {'class': MixableCondGaussianModel, 'data': pd.read_csv('./data/iris.csv'), 'fitopts': {'fit_algo': 'map'}},    \n",
    "    'spn_titanic': lambda: ({'class': SPNModel, 'data': titanic.continuous(), 'fitopts': {'iterations': 1}}),\n",
    "}"
   ]
  },
  {
   "cell_type": "markdown",
   "metadata": {},
   "source": [
    "Now we learn the models using fit_models:"
   ]
  },
  {
   "cell_type": "code",
   "execution_count": 5,
   "metadata": {},
   "outputs": [
    {
     "name": "stderr",
     "output_type": "stream",
     "text": [
      "16:03:03.621 INFO :: Fitted 3 models in total: {'emp_iris', 'spn_titanic', 'mcg_iris'}\n"
     ]
    }
   ],
   "source": [
    "models = fit_models(specs)"
   ]
  },
  {
   "cell_type": "markdown",
   "metadata": {},
   "source": [
    "`models` is a dict that contains the learned model and some additional status information about the fitting process:"
   ]
  },
  {
   "cell_type": "code",
   "execution_count": 6,
   "metadata": {},
   "outputs": [
    {
     "data": {
      "text/plain": "{'emp_iris': {'model': <mb_modelbase.models_core.empirical_model.EmpiricalModel at 0x7fa6890cabe0>,\n  'status': 'SUCCESS'},\n 'mcg_iris': {'model': <mb_modelbase.models_core.mixable_cond_gaussian.MixableCondGaussianModel at 0x7fa6890ca438>,\n  'status': 'SUCCESS'},\n 'spn_titanic': {'model': <mb_modelbase.models_core.spnmodel.SPNModel at 0x7fa6890feba8>,\n  'status': 'SUCCESS'}}"
     },
     "execution_count": 6,
     "metadata": {},
     "output_type": "execute_result"
    }
   ],
   "source": [
    "models"
   ]
  },
  {
   "cell_type": "markdown",
   "metadata": {},
   "source": [
    "Apparently everything went well and the fitted models are available under the key `model`.\n",
    "We can now save the models in a common directory via another utility function `save_models`:"
   ]
  },
  {
   "cell_type": "code",
   "execution_count": 7,
   "metadata": {},
   "outputs": [
    {
     "name": "stderr",
     "output_type": "stream",
     "text": [
      "16:03:03.647 INFO :: Files under ./models are watched for changes\n"
     ]
    }
   ],
   "source": [
    "from mb_modelbase.utils import save_models\n",
    "\n",
    "save_models(models, './models')"
   ]
  },
  {
   "cell_type": "markdown",
   "metadata": {},
   "source": [
    "That directory now contains a new `.mdl` file for each learned model:\n",
    "(It also contains another model `Allbus_CondGauss.mdl` which shipped with lumen already.)"
   ]
  },
  {
   "cell_type": "code",
   "execution_count": 8,
   "metadata": {},
   "outputs": [
    {
     "name": "stderr",
     "output_type": "stream",
     "text": [
      "16:03:04.160 INFO :: Loaded model from file emp_iris.mdl\n",
      "16:03:04.166 INFO :: Loaded model from file emp_iris.mdl\n",
      "16:03:04.177 INFO :: Loaded model from file mcg_iris.mdl\n",
      "16:03:04.185 INFO :: Loaded model from file mcg_iris.mdl\n",
      "16:03:04.194 INFO :: Loaded model from file spn_titanic.mdl\n"
     ]
    },
    {
     "name": "stdout",
     "output_type": "stream",
     "text": [
      "Allbus_CondGauss.mdl  emp_iris.mdl  mcg_iris.mdl  spn_titanic.mdl\r\n"
     ]
    }
   ],
   "source": [
    "%ls models"
   ]
  },
  {
   "cell_type": "markdown",
   "source": [
    "## Example: Set specification to also learn a PCI graph\n",
    "\n",
    "This is an example that illustrate how the specification can take arguments.\n",
    "In this particular case we enable the learning of the PCI (pair-wise conditional independence graph, see pci_graph.py).\n",
    "It's really quite simple, we just have to set the flag to true:"
   ],
   "metadata": {
    "collapsed": false,
    "pycharm": {
     "name": "#%% md\n"
    }
   }
  },
  {
   "cell_type": "code",
   "execution_count": 10,
   "outputs": [],
   "source": [
    "spec_with_pci_graph_enabled = {\n",
    "    'mcg_iris': {'class': MixableCondGaussianModel,\n",
    "                 'data': pd.read_csv('./data/iris.csv'),\n",
    "                 'fitopts': {'fit_algo': 'map', 'pci_graph': True}},\n",
    "}"
   ],
   "metadata": {
    "collapsed": false,
    "pycharm": {
     "name": "#%%\n"
    }
   }
  },
  {
   "cell_type": "markdown",
   "source": [
    "Now we use it to learn the model.\n",
    "Here, we also directly extract the model from the resulting dict."
   ],
   "metadata": {
    "collapsed": false
   }
  },
  {
   "cell_type": "code",
   "execution_count": 13,
   "outputs": [
    {
     "name": "stderr",
     "output_type": "stream",
     "text": [
      "16:06:25.739 WARNING :: Failed to learn model 'mcg_iris'! Unexpected error: \n",
      "Traceback (most recent call last):\n",
      "  File \"/home/luca_ph/Documents/projects/graphical_models/code/modelbase/mb_modelbase/utils/fit_models.py\", line 172, in fit_models\n",
      "    model.fit(df, **config['fitopts'])\n",
      "  File \"/home/luca_ph/Documents/projects/graphical_models/code/modelbase/mb_modelbase/models_core/models.py\", line 660, in fit\n",
      "    return self.set_data(df, **kwargs).fit(auto_extend=auto_extend, **kwargs)\n",
      "  File \"/home/luca_ph/Documents/projects/graphical_models/code/modelbase/mb_modelbase/models_core/models.py\", line 520, in set_data\n",
      "    raise NotImplementedError(\"Cannot compute PCI graph for now. See https://github.com/lumen-org/modelbase/issues/93\")\n",
      "NotImplementedError: Cannot compute PCI graph for now. See https://github.com/lumen-org/modelbase/issues/93\n",
      "\n",
      "16:06:25.740 WARNING :: I continue with the rest of the models anyway.\n",
      "16:06:25.740 INFO :: Fitted 0 models in total: <none>\n",
      "16:06:25.742 WARNING :: Some models FAILED to learn! See above for details.\n",
      "16:06:25.745 WARNING :: The failed models are: {'mcg_iris'}\n",
      "16:06:25.746 ERROR :: I did not fit a single model! Something must be wrong!\n"
     ]
    },
    {
     "name": "stdout",
     "output_type": "stream",
     "text": [
      "{'model': None, 'status': 'FAIL', 'message': 'Unexpected error: \\nmcg_iris'}\n"
     ]
    }
   ],
   "source": [
    "iris_model =  fit_models(spec_with_pci_graph_enabled)['mcg_iris']\n",
    "print(iris_model)"
   ],
   "metadata": {
    "collapsed": false,
    "pycharm": {
     "name": "#%%\n"
    }
   }
  },
  {
   "cell_type": "markdown",
   "source": [
    "As we can see, it now has learned a suitable PCI graph and stored it with the model\n",
    "ISSUE: as of July 2020 the PCI feature is currently disabled, see https://github.com/lumen-org/modelbase/issues/93 .\n",
    "Hence, it returns None."
   ],
   "metadata": {
    "collapsed": false,
    "pycharm": {
     "name": "#%% md\n"
    }
   }
  },
  {
   "cell_type": "code",
   "execution_count": 14,
   "outputs": [
    {
     "ename": "AttributeError",
     "evalue": "'dict' object has no attribute 'pci_graph'",
     "output_type": "error",
     "traceback": [
      "\u001B[0;31m---------------------------------------------------------------------------\u001B[0m",
      "\u001B[0;31mAttributeError\u001B[0m                            Traceback (most recent call last)",
      "\u001B[0;32m<ipython-input-14-00964dbd3168>\u001B[0m in \u001B[0;36m<module>\u001B[0;34m\u001B[0m\n\u001B[1;32m      1\u001B[0m \u001B[0;34m\u001B[0m\u001B[0m\n\u001B[0;32m----> 2\u001B[0;31m \u001B[0mprint\u001B[0m\u001B[0;34m(\u001B[0m\u001B[0miris_model\u001B[0m\u001B[0;34m.\u001B[0m\u001B[0mpci_graph\u001B[0m\u001B[0;34m)\u001B[0m\u001B[0;34m\u001B[0m\u001B[0;34m\u001B[0m\u001B[0m\n\u001B[0m",
      "\u001B[0;31mAttributeError\u001B[0m: 'dict' object has no attribute 'pci_graph'"
     ]
    }
   ],
   "source": [
    "print(iris_model.pci_graph)"
   ],
   "metadata": {
    "collapsed": false,
    "pycharm": {
     "name": "#%%\n"
    }
   }
  },
  {
   "cell_type": "code",
   "execution_count": null,
   "outputs": [],
   "source": [
    "\n"
   ],
   "metadata": {
    "collapsed": false,
    "pycharm": {
     "name": "#%%\n"
    }
   }
  }
 ],
 "metadata": {
  "kernelspec": {
   "display_name": "Python 3",
   "language": "python",
   "name": "python3"
  },
  "language_info": {
   "codemirror_mode": {
    "name": "ipython",
    "version": 3
   },
   "file_extension": ".py",
   "mimetype": "text/x-python",
   "name": "python",
   "nbconvert_exporter": "python",
   "pygments_lexer": "ipython3",
   "version": "3.6.7"
  }
 },
 "nbformat": 4,
 "nbformat_minor": 2
}