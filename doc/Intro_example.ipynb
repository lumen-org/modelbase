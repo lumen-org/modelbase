{
 "cells": [
  {
   "cell_type": "markdown",
   "metadata": {},
   "source": [
    "# how to build and query probabilistic models with `modelbase` - an introduction to the Python-API\n",
    "\n",
    "Welcome to a short introductory example of `modelbase` package.\n",
    "There is multiple ways of using `modelbase`.\n",
    "One is to run it as a webservice, for instance to connect it to [`lumen`](https://github.com/lumen-org/lumen), a graphical user interface for visually exploring models.\n",
    "Another is to use its Python-API which we introduce here.\n",
    "\n",
    "## The MPG data set\n",
    "Here, we will use the popular [cars/mpg data set](https://archive.ics.uci.edu/ml/datasets/auto+mpg) which is conviniently included in the `mb-data` package.\n",
    "\n",
    "Let us import the data set and have a first view:"
   ]
  },
  {
   "cell_type": "code",
   "execution_count": 1,
   "metadata": {},
   "outputs": [
    {
     "data": {
      "text/plain": "      car_size  cylinder  displacement  mpg_city  mpg_highway\n0  compact car         4        2.2960      17.0         17.0\n1  compact car         4        2.2960      17.0         17.0\n2  compact car         6        2.4436      21.0         27.0\n3  compact car         6        2.6896      18.0         24.0\n4  compact car         6        2.6896      18.0         23.0",
      "text/html": "<div>\n<style scoped>\n    .dataframe tbody tr th:only-of-type {\n        vertical-align: middle;\n    }\n\n    .dataframe tbody tr th {\n        vertical-align: top;\n    }\n\n    .dataframe thead th {\n        text-align: right;\n    }\n</style>\n<table border=\"1\" class=\"dataframe\">\n  <thead>\n    <tr style=\"text-align: right;\">\n      <th></th>\n      <th>car_size</th>\n      <th>cylinder</th>\n      <th>displacement</th>\n      <th>mpg_city</th>\n      <th>mpg_highway</th>\n    </tr>\n  </thead>\n  <tbody>\n    <tr>\n      <th>0</th>\n      <td>compact car</td>\n      <td>4</td>\n      <td>2.2960</td>\n      <td>17.0</td>\n      <td>17.0</td>\n    </tr>\n    <tr>\n      <th>1</th>\n      <td>compact car</td>\n      <td>4</td>\n      <td>2.2960</td>\n      <td>17.0</td>\n      <td>17.0</td>\n    </tr>\n    <tr>\n      <th>2</th>\n      <td>compact car</td>\n      <td>6</td>\n      <td>2.4436</td>\n      <td>21.0</td>\n      <td>27.0</td>\n    </tr>\n    <tr>\n      <th>3</th>\n      <td>compact car</td>\n      <td>6</td>\n      <td>2.6896</td>\n      <td>18.0</td>\n      <td>24.0</td>\n    </tr>\n    <tr>\n      <th>4</th>\n      <td>compact car</td>\n      <td>6</td>\n      <td>2.6896</td>\n      <td>18.0</td>\n      <td>23.0</td>\n    </tr>\n  </tbody>\n</table>\n</div>"
     },
     "execution_count": 1,
     "metadata": {},
     "output_type": "execute_result"
    }
   ],
   "source": [
    "import pandas as pd\n",
    "from mb.data import mpg\n",
    "\n",
    "dataset =  mpg.mixed()\n",
    "dataset.head()"
   ]
  },
  {
   "cell_type": "markdown",
   "metadata": {},
   "source": [
    "Here, we loaded a version of the data set with only 5 attributes, one of them categorical (`car_size`) and the other four having quantitative values (`cylinder`, `displacement`, `mpg_city`)"
   ]
  },
  {
   "cell_type": "markdown",
   "metadata": {},
   "source": [
    "## Fitting a probabilistic model\n",
    "\n",
    "Let's creata a probabilistic model, namely a Conditional Gaussian distribution.\n",
    "Next, we will train it on our data, i.e., let an algorithm fit its internal parameters to best match the data.\n",
    "It should take only a second to fit the model."
   ]
  },
  {
   "cell_type": "code",
   "execution_count": 2,
   "metadata": {},
   "outputs": [],
   "source": [
    "import mb.modelbase as mbase\n",
    "\n",
    "#Create an object of the model class Conditional Gaussians (with categorical and continuous variables)\n",
    "mpg_model = mbase.MixableCondGaussianModel(\"mpg_v1\")\n",
    "\n",
    "#Fitting process\n",
    "mpg_model.fit(df=dataset)"
   ]
  },
  {
   "cell_type": "markdown",
   "metadata": {},
   "source": [
    "## Executing queries on models\n",
    "\n",
    "Once it is trained, we can execute various queries on the model.\n",
    "Let's show the basic ones:\n",
    "\n",
    "**descriptive queries:**\n",
    "Here, descriptive means that the query will return some data table that describes a particular aspect of the model:\n",
    "\n",
    " * aggregation/prediction\n",
    " * sampling\n",
    " * probability/density queries\n",
    "\n",
    "**modifying queries:**\n",
    "Here, modifying means that such queries will change the queried model.\n",
    "\n",
    " * filtering/conditioning\n",
    " * marginalization\n",
    "\n",
    "## Aggregation/Prediction\n",
    "\n",
    "We can query for point predictions (here called aggregations).\n",
    "This gives us the point of maximum density of the 5-dimensional fully probabilistic model.\n",
    "An intuitive interpretation is as an answer to this question: if we would draw a new sample point from the model, what would be the most likely value be?"
   ]
  },
  {
   "cell_type": "code",
   "execution_count": 9,
   "outputs": [
    {
     "data": {
      "text/plain": "['pickup',\n 6.395435764938331,\n 4.213260050346121,\n 14.653353886176635,\n 18.738270671563757]"
     },
     "execution_count": 9,
     "metadata": {},
     "output_type": "execute_result"
    }
   ],
   "source": [
    "arg_max = mpg_model.aggregate(\"maximum\")\n",
    "arg_max"
   ],
   "metadata": {
    "collapsed": false,
    "pycharm": {
     "name": "#%%\n"
    }
   }
  },
  {
   "cell_type": "markdown",
   "source": [
    "## Density\n",
    "\n",
    "Let's query the density of the model at this point:"
   ],
   "metadata": {
    "collapsed": false,
    "pycharm": {
     "name": "#%% md\n"
    }
   }
  },
  {
   "cell_type": "code",
   "execution_count": 10,
   "outputs": [
    {
     "data": {
      "text/plain": "0.12170594972155192"
     },
     "execution_count": 10,
     "metadata": {},
     "output_type": "execute_result"
    }
   ],
   "source": [
    "mpg_model.density(arg_max)"
   ],
   "metadata": {
    "collapsed": false,
    "pycharm": {
     "name": "#%%\n"
    }
   }
  },
  {
   "cell_type": "markdown",
   "source": [
    "We can also query for any other points, such as any value in our data set."
   ],
   "metadata": {
    "collapsed": false,
    "pycharm": {
     "name": "#%% md\n"
    }
   }
  },
  {
   "cell_type": "code",
   "execution_count": 22,
   "outputs": [
    {
     "name": "stdout",
     "output_type": "stream",
     "text": [
      "p(['compact car' 4 2.296 17.0 24.0]) = 0.034981008135752945\n"
     ]
    }
   ],
   "source": [
    "random_data_item = dataset.sample().values[0]\n",
    "p = mpg_model.density(random_data_item)\n",
    "print(f'p({random_data_item}) = {p}')"
   ],
   "metadata": {
    "collapsed": false,
    "pycharm": {
     "name": "#%%\n"
    }
   }
  },
  {
   "cell_type": "markdown",
   "source": [
    "## Probability\n",
    "Similarily, we can also query for the probability of some interval:\n",
    "TOOD"
   ],
   "metadata": {
    "collapsed": false,
    "pycharm": {
     "name": "#%% md\n"
    }
   }
  },
  {
   "cell_type": "code",
   "execution_count": null,
   "outputs": [],
   "source": [],
   "metadata": {
    "collapsed": false,
    "pycharm": {
     "name": "#%%\n"
    }
   }
  },
  {
   "cell_type": "markdown",
   "metadata": {},
   "source": [
    "# Using model qeries to specialize models\n",
    "\n",
    "We can flexibly derive 'specialized' models from our full, five-dimensional model by conditioning or marginalizing it.\n",
    "\n",
    "By default, these operations *modify* the model they are applied to.\n",
    "To keep the original model, we can copy it explicitely using `.copy()`.\n",
    "\n",
    "## Conditioning / filtering\n",
    "\n",
    "Conditioning means to fix the value of one or more random variables.\n"
   ]
  },
  {
   "cell_type": "code",
   "execution_count": 24,
   "outputs": [],
   "source": [
    "conditions = [mbase.ConditionTuple('car_size', \"==\", \"compact car\"),\n",
    "              mbase.ConditionTuple('cylinder', '<', 4)]\n",
    "mpg_model_conditionalized = mpg_model.copy().condition(conditions)"
   ],
   "metadata": {
    "collapsed": false,
    "pycharm": {
     "name": "#%%\n"
    }
   }
  },
  {
   "cell_type": "markdown",
   "source": [
    "As to be expected smaller cars with less cylinders can go more miles per gallon than the overall average car:"
   ],
   "metadata": {
    "collapsed": false,
    "pycharm": {
     "name": "#%% md\n"
    }
   }
  },
  {
   "cell_type": "code",
   "execution_count": 29,
   "outputs": [
    {
     "name": "stdout",
     "output_type": "stream",
     "text": [
      "['car_size', 'cylinder', 'displacement', 'mpg_city', 'mpg_highway']\n",
      "conditionalized model: ['compact car', 4, 2.4870509541527945, 19.75823175695253, 26.74175955164767]\n",
      "original model       : ['pickup', 6.395435764938331, 4.213260050346121, 14.653353886176635, 18.738270671563757]\n"
     ]
    }
   ],
   "source": [
    "print(mpg_model.names)\n",
    "print(f\"conditionalized model: {mpg_model_conditionalized.aggregate(method='maximum')}\")\n",
    "print(f\"original model       : {mpg_model.aggregate(method='maximum')}\")"
   ],
   "metadata": {
    "collapsed": false,
    "pycharm": {
     "name": "#%%\n"
    }
   }
  },
  {
   "cell_type": "markdown",
   "source": [
    "## Marginalization\n",
    "\n",
    "Marginalization means to remove one or more variables.\n",
    "\n",
    "Originally our model has 5 dimensions as follows:"
   ],
   "metadata": {
    "collapsed": false,
    "pycharm": {
     "name": "#%% md\n"
    }
   }
  },
  {
   "cell_type": "code",
   "execution_count": 36,
   "outputs": [
    {
     "name": "stdout",
     "output_type": "stream",
     "text": [
      "5 dimensions with names ['car_size', 'cylinder', 'displacement', 'mpg_city', 'mpg_highway']\n"
     ]
    }
   ],
   "source": [
    "print(f\"{mpg_model.dim} dimensions with names {mpg_model.names}\")"
   ],
   "metadata": {
    "collapsed": false,
    "pycharm": {
     "name": "#%%\n"
    }
   }
  },
  {
   "cell_type": "markdown",
   "source": [
    "Now, let's marginalize the variables `car_size` and `mpg_city`:"
   ],
   "metadata": {
    "collapsed": false,
    "pycharm": {
     "name": "#%% md\n"
    }
   }
  },
  {
   "cell_type": "code",
   "execution_count": 38,
   "outputs": [
    {
     "name": "stdout",
     "output_type": "stream",
     "text": [
      "3 dimensions with names ['cylinder', 'displacement', 'mpg_highway']\n"
     ]
    }
   ],
   "source": [
    "mpg_model_marginalized = mpg_model.copy().marginalize(remove=['car_size', 'mpg_city'])\n",
    "print(f\"{mpg_model_marginalized.dim} dimensions with names {mpg_model_marginalized.names}\")"
   ],
   "metadata": {
    "collapsed": false,
    "pycharm": {
     "name": "#%%\n"
    }
   }
  },
  {
   "cell_type": "markdown",
   "source": [
    "Alternatively, we could also specify those variables to keep, instead of those to remove.\n",
    "Obviously, this is sometimes handy:"
   ],
   "metadata": {
    "collapsed": false,
    "pycharm": {
     "name": "#%% md\n"
    }
   }
  },
  {
   "cell_type": "code",
   "execution_count": 39,
   "outputs": [
    {
     "name": "stdout",
     "output_type": "stream",
     "text": [
      "1 dimensions with names ['cylinder']\n"
     ]
    }
   ],
   "source": [
    "mpg_model_marginalized = mpg_model.copy().marginalize(keep=['cylinder'])\n",
    "print(f\"{mpg_model_marginalized.dim} dimensions with names {mpg_model_marginalized.names}\")"
   ],
   "metadata": {
    "collapsed": false,
    "pycharm": {
     "name": "#%%\n"
    }
   }
  },
  {
   "cell_type": "markdown",
   "source": [
    "Again, as the marginalized model is just a model, we can run any query on it:\n"
   ],
   "metadata": {
    "collapsed": false,
    "pycharm": {
     "name": "#%% md\n"
    }
   }
  },
  {
   "cell_type": "code",
   "execution_count": 59,
   "outputs": [
    {
     "name": "stdout",
     "output_type": "stream",
     "text": [
      "density(cylinder=4) = 0.24835018618057497 \n",
      "argmax(model) = [5.605323188960642]\n"
     ]
    }
   ],
   "source": [
    "print(f\"density(cylinder=4) = {mpg_model_marginalized.density([4])} \\n\"\n",
    "      #f\"probability(cylinder in [1,4]) = {mpg_model_marginalized.probability([mbase.NumericDomain(1,4)])}\"\n",
    "      f\"argmax(model) = {mpg_model_marginalized.aggregate(method='maximum')}\"\n",
    " )"
   ],
   "metadata": {
    "collapsed": false,
    "pycharm": {
     "name": "#%%\n"
    }
   }
  },
  {
   "cell_type": "markdown",
   "metadata": {},
   "source": [
    "## Other queries\n",
    "\n",
    "There is a number of other queries.\n",
    "For instance we can save a model to disk, and of course you can also load a model from disk:"
   ]
  },
  {
   "cell_type": "code",
   "execution_count": 62,
   "outputs": [
    {
     "data": {
      "text/plain": "<mb.modelbase.models.mixable_cond_gaussian.MixableCondGaussianModel at 0x7faceb9e9940>"
     },
     "execution_count": 62,
     "metadata": {},
     "output_type": "execute_result"
    }
   ],
   "source": [
    "mpg_model.save(dir='.')"
   ],
   "metadata": {
    "collapsed": false,
    "pycharm": {
     "name": "#%%\n"
    }
   }
  },
  {
   "cell_type": "markdown",
   "source": [
    "By default the name of the file is the name of the model.\n",
    "Also, we use the `.mdl` file ending.\n",
    "\n",
    "Hence, to load, we can simply do:"
   ],
   "metadata": {
    "collapsed": false,
    "pycharm": {
     "name": "#%% md\n"
    }
   }
  },
  {
   "cell_type": "code",
   "execution_count": 78,
   "outputs": [
    {
     "data": {
      "text/plain": "0.09090717745084334"
     },
     "execution_count": 78,
     "metadata": {},
     "output_type": "execute_result"
    }
   ],
   "source": [
    "mpg_model2 = mbase.Model.load(mpg_model.name + '.mdl')\n",
    "mpg_model2.density( mpg_model2.data.sample().iloc[0] )"
   ],
   "metadata": {
    "collapsed": false,
    "pycharm": {
     "name": "#%%\n"
    }
   }
  }
 ],
 "metadata": {
  "kernelspec": {
   "display_name": "Python 3",
   "language": "python",
   "name": "python3"
  },
  "language_info": {
   "codemirror_mode": {
    "name": "ipython",
    "version": 3
   },
   "file_extension": ".py",
   "mimetype": "text/x-python",
   "name": "python",
   "nbconvert_exporter": "python",
   "pygments_lexer": "ipython3",
   "version": "3.6.7"
  }
 },
 "nbformat": 4,
 "nbformat_minor": 2
}