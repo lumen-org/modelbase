{
 "cells": [
  {
   "cell_type": "markdown",
   "source": [
    "This is an introduction on how to use the Sum Product Networks from mb_modelbase/models_core/spflow.py. \n",
    "They are implemented using the Tensorflow-based Library SPFlow (https://github.com/SPFlow/SPFlow)"
   ],
   "metadata": {
    "pycharm": {
     "metadata": false,
     "name": "#%% md\n"
    }
   }
  },
  {
   "cell_type": "markdown",
   "source": [
    "We begin by loading some data to model and train the SPNs on."
   ],
   "metadata": {
    "pycharm": {
     "metadata": false,
     "name": "#%% md\n"
    }
   }
  },
  {
   "cell_type": "code",
   "execution_count": 11,
   "outputs": [
    {
     "data": {
      "text/plain": "   age     sex  educ  income eastwest lived_abroad  spectrum\n0   47  Female     3    1800     East           No         1\n1   52    Male     3    2000     East           No         5\n2   61    Male     2    2500     West           No         6\n3   54  Female     2     860     West          Yes         1\n4   49    Male     3    2500     West           No         6",
      "text/html": "<div>\n<style scoped>\n    .dataframe tbody tr th:only-of-type {\n        vertical-align: middle;\n    }\n\n    .dataframe tbody tr th {\n        vertical-align: top;\n    }\n\n    .dataframe thead th {\n        text-align: right;\n    }\n</style>\n<table border=\"1\" class=\"dataframe\">\n  <thead>\n    <tr style=\"text-align: right;\">\n      <th></th>\n      <th>age</th>\n      <th>sex</th>\n      <th>educ</th>\n      <th>income</th>\n      <th>eastwest</th>\n      <th>lived_abroad</th>\n      <th>spectrum</th>\n    </tr>\n  </thead>\n  <tbody>\n    <tr>\n      <th>0</th>\n      <td>47</td>\n      <td>Female</td>\n      <td>3</td>\n      <td>1800</td>\n      <td>East</td>\n      <td>No</td>\n      <td>1</td>\n    </tr>\n    <tr>\n      <th>1</th>\n      <td>52</td>\n      <td>Male</td>\n      <td>3</td>\n      <td>2000</td>\n      <td>East</td>\n      <td>No</td>\n      <td>5</td>\n    </tr>\n    <tr>\n      <th>2</th>\n      <td>61</td>\n      <td>Male</td>\n      <td>2</td>\n      <td>2500</td>\n      <td>West</td>\n      <td>No</td>\n      <td>6</td>\n    </tr>\n    <tr>\n      <th>3</th>\n      <td>54</td>\n      <td>Female</td>\n      <td>2</td>\n      <td>860</td>\n      <td>West</td>\n      <td>Yes</td>\n      <td>1</td>\n    </tr>\n    <tr>\n      <th>4</th>\n      <td>49</td>\n      <td>Male</td>\n      <td>3</td>\n      <td>2500</td>\n      <td>West</td>\n      <td>No</td>\n      <td>6</td>\n    </tr>\n  </tbody>\n</table>\n</div>"
     },
     "metadata": {},
     "output_type": "execute_result",
     "execution_count": 11
    }
   ],
   "source": [
    "import pandas as pd\n",
    "dataset = pd.read_csv('data/allbus2016.csv', index_col=0)\n",
    "dataset.head()"
   ],
   "metadata": {
    "pycharm": {
     "metadata": false,
     "name": "#%%\n",
     "is_executing": false
    }
   }
  },
  {
   "cell_type": "code",
   "execution_count": 12,
   "outputs": [
    {
     "data": {
      "text/plain": "age              int64\nsex             object\neduc             int64\nincome           int64\neastwest        object\nlived_abroad    object\nspectrum         int64\ndtype: object"
     },
     "metadata": {},
     "output_type": "execute_result",
     "execution_count": 12
    }
   ],
   "source": [
    "dataset.dtypes\n"
   ],
   "metadata": {
    "pycharm": {
     "metadata": false,
     "name": "#%%\n",
     "is_executing": false
    }
   }
  },
  {
   "cell_type": "code",
   "execution_count": 23,
   "outputs": [
    {
     "data": {
      "text/plain": "   sepal_length  sepal_width  petal_length  petal_width species\n0           5.1          3.5           1.4          0.2  setosa\n1           4.9          3.0           1.4          0.2  setosa\n2           4.7          3.2           1.3          0.2  setosa\n3           4.6          3.1           1.5          0.2  setosa\n4           5.0          3.6           1.4          0.2  setosa",
      "text/html": "<div>\n<style scoped>\n    .dataframe tbody tr th:only-of-type {\n        vertical-align: middle;\n    }\n\n    .dataframe tbody tr th {\n        vertical-align: top;\n    }\n\n    .dataframe thead th {\n        text-align: right;\n    }\n</style>\n<table border=\"1\" class=\"dataframe\">\n  <thead>\n    <tr style=\"text-align: right;\">\n      <th></th>\n      <th>sepal_length</th>\n      <th>sepal_width</th>\n      <th>petal_length</th>\n      <th>petal_width</th>\n      <th>species</th>\n    </tr>\n  </thead>\n  <tbody>\n    <tr>\n      <th>0</th>\n      <td>5.1</td>\n      <td>3.5</td>\n      <td>1.4</td>\n      <td>0.2</td>\n      <td>setosa</td>\n    </tr>\n    <tr>\n      <th>1</th>\n      <td>4.9</td>\n      <td>3.0</td>\n      <td>1.4</td>\n      <td>0.2</td>\n      <td>setosa</td>\n    </tr>\n    <tr>\n      <th>2</th>\n      <td>4.7</td>\n      <td>3.2</td>\n      <td>1.3</td>\n      <td>0.2</td>\n      <td>setosa</td>\n    </tr>\n    <tr>\n      <th>3</th>\n      <td>4.6</td>\n      <td>3.1</td>\n      <td>1.5</td>\n      <td>0.2</td>\n      <td>setosa</td>\n    </tr>\n    <tr>\n      <th>4</th>\n      <td>5.0</td>\n      <td>3.6</td>\n      <td>1.4</td>\n      <td>0.2</td>\n      <td>setosa</td>\n    </tr>\n  </tbody>\n</table>\n</div>"
     },
     "metadata": {},
     "output_type": "execute_result",
     "execution_count": 23
    }
   ],
   "source": [
    "iris = pd.read_csv('data/iris.csv')\n",
    "iris.head()\n"
   ],
   "metadata": {
    "pycharm": {
     "metadata": false,
     "name": "#%%\n",
     "is_executing": false
    }
   }
  },
  {
   "cell_type": "markdown",
   "source": [
    "We construct a SPN and a Mixed SPN to be trained on the dataset"
   ],
   "metadata": {
    "pycharm": {
     "metadata": false,
     "name": "#%% md\n"
    }
   }
  },
  {
   "cell_type": "code",
   "execution_count": 13,
   "outputs": [],
   "source": [
    "from mb_modelbase.models_core.spflow import SPNModel\n",
    "\n",
    "spn_model = SPNModel(\n",
    "    'Allbus SPN',\n",
    "    spn_type='spn'\n",
    ")\n",
    "\n",
    "mspn_model = SPNModel(\n",
    "    'Allbus MSPN',\n",
    "    spn_type='mspn'\n",
    ")\n"
   ],
   "metadata": {
    "pycharm": {
     "metadata": false,
     "name": "#%%\n",
     "is_executing": false
    }
   }
  },
  {
   "cell_type": "markdown",
   "source": [
    "To train a Sum Product Network we have to choose types of distributions to model the features of our dataset."
   ],
   "metadata": {
    "pycharm": {
     "metadata": false
    }
   }
  },
  {
   "cell_type": "code",
   "execution_count": 14,
   "outputs": [
    {
     "data": {
      "text/plain": "{'age': spn.structure.leaves.parametric.Parametric.Poisson,\n 'sex': spn.structure.leaves.parametric.Parametric.Bernoulli,\n 'educ': spn.structure.leaves.parametric.Parametric.Categorical,\n 'income': spn.structure.leaves.parametric.Parametric.Poisson,\n 'eastwest': spn.structure.leaves.parametric.Parametric.Bernoulli,\n 'lived_abroad': spn.structure.leaves.parametric.Parametric.Bernoulli,\n 'spectrum': spn.structure.leaves.parametric.Parametric.Categorical}"
     },
     "metadata": {},
     "output_type": "execute_result",
     "execution_count": 14
    }
   ],
   "source": [
    "import spn.structure.leaves.parametric.Parametric as spn_parameter_types\n",
    "\n",
    "spn_types = {\n",
    "        'age': spn_parameter_types.Poisson,\n",
    "        'sex': spn_parameter_types.Bernoulli,\n",
    "        'educ': spn_parameter_types.Categorical,\n",
    "        'income': spn_parameter_types.Poisson,\n",
    "        'eastwest': spn_parameter_types.Bernoulli,\n",
    "        'lived_abroad': spn_parameter_types.Bernoulli,\n",
    "        'spectrum': spn_parameter_types.Categorical\n",
    "    }\n",
    "spn_types\n"
   ],
   "metadata": {
    "pycharm": {
     "metadata": false,
     "name": "#%%\n",
     "is_executing": false
    }
   }
  },
  {
   "cell_type": "markdown",
   "source": [
    "To train our MSPN we only have to specify the Metatype of the variable."
   ],
   "metadata": {
    "pycharm": {
     "metadata": false,
     "name": "#%% md\n"
    }
   }
  },
  {
   "cell_type": "code",
   "execution_count": 24,
   "outputs": [
    {
     "data": {
      "text/plain": "{'sepal_width': <MetaType.REAL: 1>,\n 'sepal_length': <MetaType.REAL: 1>,\n 'petal_width': <MetaType.REAL: 1>,\n 'petal_length': <MetaType.REAL: 1>,\n 'species': <MetaType.DISCRETE: 3>}"
     },
     "metadata": {},
     "output_type": "execute_result",
     "execution_count": 24
    }
   ],
   "source": [
    "import spn.structure.StatisticalTypes as spn_statistical_types\n",
    "\n",
    "mspn_metatypes = {\n",
    "        'age': spn_statistical_types.MetaType.DISCRETE,\n",
    "        'sex': spn_statistical_types.MetaType.DISCRETE,\n",
    "        'educ': spn_statistical_types.MetaType.DISCRETE,\n",
    "        'income': spn_statistical_types.MetaType.DISCRETE,\n",
    "        'eastwest': spn_statistical_types.MetaType.DISCRETE,\n",
    "        'lived_abroad': spn_statistical_types.MetaType.DISCRETE,\n",
    "        'spectrum': spn_statistical_types.MetaType.DISCRETE\n",
    "    }\n",
    "\n",
    "mspn_metatypes"
   ],
   "metadata": {
    "pycharm": {
     "metadata": false,
     "name": "#%%\n",
     "is_executing": false
    }
   }
  },
  {
   "cell_type": "markdown",
   "source": [
    "After associating the variables with types we can train our models"
   ],
   "metadata": {
    "pycharm": {
     "metadata": false,
     "name": "#%% md\n"
    }
   }
  },
  {
   "cell_type": "code",
   "execution_count": 26,
   "outputs": [
    {
     "data": {
      "text/plain": "<mb_modelbase.models_core.spflow.SPNModel at 0x7fde48186780>"
     },
     "metadata": {},
     "output_type": "execute_result",
     "execution_count": 26
    }
   ],
   "source": [
    "spn_model.fit(\n",
    "    df=dataset,\n",
    "    var_types=spn_types\n",
    ")\n",
    "\n",
    "mspn_model.fit(\n",
    "    df=dataset,\n",
    "    var_types=mspn_metatypes\n",
    ")\n"
   ],
   "metadata": {
    "pycharm": {
     "metadata": false,
     "name": "#%%\n",
     "is_executing": false
    }
   }
  },
  {
   "cell_type": "markdown",
   "source": [
    "Now we are able to use nearly all of the functions from the abtract model baseclass.\n",
    "The function sample does not work on the mixed spns up to now as to a problem with with the unterlying library Spflow.\n",
    "\n"
   ],
   "metadata": {
    "pycharm": {
     "metadata": false,
     "name": "#%% md\n"
    }
   }
  }
 ],
 "metadata": {
  "language_info": {
   "codemirror_mode": {
    "name": "ipython",
    "version": 2
   },
   "file_extension": ".py",
   "mimetype": "text/x-python",
   "name": "python",
   "nbconvert_exporter": "python",
   "pygments_lexer": "ipython2",
   "version": "2.7.6"
  },
  "kernelspec": {
   "name": "python3",
   "language": "python",
   "display_name": "Python 3"
  },
  "stem_cell": {
   "cell_type": "raw",
   "source": "",
   "metadata": {
    "pycharm": {
     "metadata": false
    }
   }
  },
  "pycharm": {
   "stem_cell": {
    "cell_type": "raw",
    "source": [],
    "metadata": {
     "collapsed": false
    }
   }
  }
 },
 "nbformat": 4,
 "nbformat_minor": 0
}