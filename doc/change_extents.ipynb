{
 "cells": [
  {
   "cell_type": "markdown",
   "metadata": {},
   "source": [
    "## Adaption of Extents of Models for Lumen\n",
    "\n",
    "This scripts helps you to adapt extents of fields of models in lumen.\n",
    "The main use case is to prettify some particular models for the display in the frontend."
   ]
  },
  {
   "cell_type": "code",
   "execution_count": 1,
   "metadata": {},
   "outputs": [],
   "source": [
    "import mb.modelbase as mbase\n",
    "from mb.modelbase import domains as dm"
   ]
  },
  {
   "cell_type": "markdown",
   "metadata": {},
   "source": [
    "### option 1: heuristic auto extents"
   ]
  },
  {
   "cell_type": "code",
   "execution_count": 21,
   "metadata": {},
   "outputs": [],
   "source": [
    "# run modelbase with models in directory ./data_models\n",
    "mb = mbase.ModelBase(\"my modelbase\", \"./data_models\")\n",
    "\n",
    "# get particular model\n",
    "iris= mb.get('mcg_iris_map').copy()\n",
    "\n",
    "# copy to prevent modification of original\n",
    "iris2 = iris.copy()\n",
    "# use auto adoption method\n",
    "mbase.core.adopt_all_extents(iris2)\n",
    "\n",
    "# comparative pring\n",
    "mbase.core.print_extents(iris)\n",
    "print(\"---\")\n",
    "mbase.core.print_extents(iris2)"
   ]
  },
  {
   "cell_type": "markdown",
   "metadata": {},
   "source": [
    "### option 2: manual adoption"
   ]
  },
  {
   "cell_type": "code",
   "execution_count": 2,
   "metadata": {},
   "outputs": [],
   "source": [
    "def adopt_extents (modelpath, modelname, newname, changedict):\n",
    "    mb = mbase.ModelBase(\"foo\", modelpath)\n",
    "    \n",
    "    # load model\n",
    "    assert(len(mb.list_models()) > 0)\n",
    "    m = mb.get(modelname)\n",
    "    \n",
    "    newname = newname + \"X\"\n",
    "    \n",
    "    for name, extent in changedict.items():\n",
    "        # adopt extent\n",
    "        print(str(m.byname(name)['extent'].values()))\n",
    "        m.byname(name)['extent'] = dm.NumericDomain(extent)\n",
    "        print(str(m.byname(name)['extent'].values()))\n",
    "        \n",
    "    print(\"done: \" + modelname)\n",
    "    \n",
    "    # save model    \n",
    "    m.name = newname\n",
    "    path_ = modelpath + \"/\" + newname + '.mdl'\n",
    "    mbase.Model.save(m, path_)\n",
    "    print(\"path: \" + path_)"
   ]
  },
  {
   "cell_type": "code",
   "execution_count": 3,
   "metadata": {},
   "outputs": [
    {
     "name": "stderr",
     "output_type": "stream",
     "text": [
      "/home/philipp/.virtualenvs/modelbase/lib/python3.6/site-packages/statsmodels/compat/pandas.py:56: FutureWarning: The pandas.core.datetools module is deprecated and will be removed in a future version. Please use the pandas.tseries module instead.\n",
      "  from pandas.core import datetools\n"
     ]
    },
    {
     "name": "stdout",
     "output_type": "stream",
     "text": [
      "[1982.7, 2010.3]\n",
      "[1970, 2020]\n",
      "done: mcg_mpg_map\n",
      "path: ./data_models/mcg_mpg_map.mdl\n"
     ]
    }
   ],
   "source": [
    "# dict of <quantitative field-name> to <new extent>\n",
    "changedict = {\n",
    "    #'displacement': [0, 8],\n",
    "    'year': [1970, 2020],\n",
    "    #'mpg_city': [7, 39],\n",
    "    #'mpg_highway': [-10, 61],\n",
    "}\n",
    "#adopt_extents(modelpath=\"./data_models\", modelname = \"mcg_mpg_clz\", newname = \"mcg_mpg_clz\", changedict=changedict)\n",
    "#for name in ['mcg_mpg_full', 'mcg_mpg_map', 'mcg_mpg_clz']: # 'spn_mpg_i2', 'spn_mpg_i3', 'spn_mpg_i4', \n",
    "for name in ['mcg_mpg_map']: # 'spn_mpg_i2', 'spn_mpg_i3', 'spn_mpg_i4',     \n",
    "    adopt_extents(modelpath=\"./data_models\", modelname = name, newname = name, changedict=changedict)"
   ]
  },
  {
   "cell_type": "code",
   "execution_count": 4,
   "metadata": {
    "scrolled": true
   },
   "outputs": [
    {
     "name": "stdout",
     "output_type": "stream",
     "text": [
      "[0.4099999999999999, 7.49]\n",
      "[-0.5, 7.5]\n",
      "[3.9399999999999995, 8.26]\n",
      "[3, 8.5]\n",
      "done: mcg_iris_map\n",
      "path: ./data_models/mcg_iris_mapX.mdl\n"
     ]
    }
   ],
   "source": [
    "changedict = {\n",
    "    #'petal_width': [-1, 3],\n",
    "    'petal_length': [-0.5, 7.5],\n",
    "    #'sepal_width': [1, 5],\n",
    "    'sepal_length': [3, 8.5],\n",
    "}\n",
    "# for name in ['spn_iris_i2', 'spn_iris_i3', 'spn_iris_i4', 'mcg_iris_full', 'mcg_iris_map']: #, 'mcg_iris_clz']:\n",
    "for name in ['mcg_iris_map']: #, 'mcg_iris_clz']:\n",
    "    adopt_extents(modelpath=\"./data_models\", modelname = name, newname = name, changedict=changedict)\n",
    "#adopt_extents(modelpath=\"./data_models\", modelname = \"mcg_iris_map\", newname = \"Iris_map\", changedict=changedict)"
   ]
  },
  {
   "cell_type": "code",
   "execution_count": 96,
   "metadata": {},
   "outputs": [
    {
     "name": "stdout",
     "output_type": "stream",
     "text": [
      "name: campaign\n",
      "extent: [0, 14]\n",
      "[0, 14]\n",
      "name: balance\n",
      "extent: [-8000, 13000]\n",
      "[-8000, 13000]\n",
      "name: duration\n",
      "extent: [0, 1400]\n",
      "[0, 1400]\n",
      "name: previous\n",
      "extent: [0, 10]\n",
      "[0, 10]\n",
      "name: age\n",
      "extent: [0, 80]\n",
      "[0, 80]\n",
      "path: ./data_models/Bank.mdl\n"
     ]
    }
   ],
   "source": [
    "changedict = {\n",
    "    'age': [0, 80],\n",
    "    'balance': [-8000, 13000],\n",
    "    'duration': [0, 1400],\n",
    "    'campaign': [0, 14],\n",
    "    'previous': [0, 10],\n",
    "}\n",
    "adopt_extents(modelpath=\"./data_models\", modelname = \"bank_chris_map\", newname = \"Bank\", changedict=changedict)"
   ]
  },
  {
   "cell_type": "code",
   "execution_count": 4,
   "metadata": {},
   "outputs": [
    {
     "name": "stderr",
     "output_type": "stream",
     "text": [
      "/home/philipp/anaconda3/lib/python3.5/site-packages/statsmodels/compat/pandas.py:56: FutureWarning: The pandas.core.datetools module is deprecated and will be removed in a future version. Please use the pandas.tseries module instead.\n",
      "  from pandas.core import datetools\n"
     ]
    },
    {
     "name": "stdout",
     "output_type": "stream",
     "text": [
      "[-51.232920000000007, 563.56212000000005]\n",
      "[-30, 170]\n",
      "[-7.5599999999999996, 87.959999999999994]\n",
      "[-10, 72]\n",
      "done: spn_titanic_i1\n",
      "path: ./data_models/spn_titanic_i12.mdl\n",
      "[-51.232920000000007, 563.56212000000005]\n",
      "[-30, 170]\n",
      "[-7.5599999999999996, 87.959999999999994]\n",
      "[-10, 72]\n",
      "done: spn_titanic_i2\n",
      "path: ./data_models/spn_titanic_i22.mdl\n",
      "[-51.232920000000007, 563.56212000000005]\n",
      "[-30, 170]\n",
      "[-7.5599999999999996, 87.959999999999994]\n",
      "[-10, 72]\n",
      "done: spn_titanic_i4\n",
      "path: ./data_models/spn_titanic_i42.mdl\n"
     ]
    }
   ],
   "source": [
    "changedict = {\n",
    "    #'Fare': [-50, 560],\n",
    "    #'Fare': [-70, 560],\n",
    "    #'Age': [-10,80],\n",
    "    'Fare': [-30, 170],\n",
    "    #'Fare': [-70, 200],\n",
    "    'Age': [-10,72],\n",
    "}\n",
    "#for name in ['mcg_titanic_map', 'mcg_titanic_clz']:\n",
    "for name in ['spn_titanic_i1','spn_titanic_i2','spn_titanic_i4']:\n",
    "    adopt_extents(modelpath=\"./data_models\", modelname = name, newname = name, changedict=changedict)"
   ]
  },
  {
   "cell_type": "code",
   "execution_count": null,
   "metadata": {},
   "outputs": [],
   "source": []
  }
 ],
 "metadata": {
  "kernelspec": {
   "display_name": "Python 3",
   "language": "python",
   "name": "python3"
  },
  "language_info": {
   "codemirror_mode": {
    "name": "ipython",
    "version": 3
   },
   "file_extension": ".py",
   "mimetype": "text/x-python",
   "name": "python",
   "nbconvert_exporter": "python",
   "pygments_lexer": "ipython3",
   "version": "3.6.6"
  }
 },
 "nbformat": 4,
 "nbformat_minor": 2
}