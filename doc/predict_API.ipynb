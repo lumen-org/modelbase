{
 "cells": [
  {
   "cell_type": "markdown",
   "source": [
    "### The predict-Query\n",
    "\n",
    "In the `intro_exampe.ipynb` notebook we have see how to create a model from data\n",
    "and which fundamental queries there are available.\n",
    "Here, we will have a look at the particular method `predict`.\n",
    "This is extremely useful, since it allows one to formulate complex queries in a simple way, similar to how SQL queries are structured.\n",
    "\n",
    "Let's create a model first:"
   ],
   "metadata": {
    "collapsed": false,
    "pycharm": {
     "name": "#%% md\n"
    }
   }
  },
  {
   "cell_type": "code",
   "execution_count": 1,
   "metadata": {},
   "outputs": [
    {
     "name": "stdout",
     "output_type": "stream",
     "text": [
      "['car_size', 'year', 'cylinder', 'displacement', 'mpg_city', 'mpg_highway']\n"
     ]
    }
   ],
   "source": [
    "from mb.data import mpg\n",
    "import mb.modelbase as mbase\n",
    "model = mbase.MixableCondGaussianModel(\"mpg\").fit(df=mpg.mixed())\n",
    "\n",
    "print(model.names)"
   ]
  },
  {
   "cell_type": "markdown",
   "metadata": {
    "pycharm": {
     "name": "#%% md\n"
    }
   },
   "source": [
    "Using the `predict` query we can combine the basic operations for querying densities or aggregations with conditioning or marginalization.\n",
    "\n",
    "In practice, for instance, we might want to plot the marginal distribution over one variable, say `mpg_city`.\n",
    "We can get the necessary density values like this:"
   ]
  },
  {
   "cell_type": "code",
   "execution_count": 2,
   "outputs": [
    {
     "name": "stdout",
     "output_type": "stream",
     "text": [
      "    density(['mpg_city'])\n",
      "0            1.144641e-03\n",
      "1            3.247193e-03\n",
      "2            1.147061e-02\n",
      "3            4.277453e-02\n",
      "4            1.294708e-01\n",
      "5            2.770244e-01\n",
      "6            4.064124e-01\n",
      "7            4.230521e-01\n",
      "8            3.451831e-01\n",
      "9            2.481531e-01\n",
      "10           1.644701e-01\n",
      "11           9.995644e-02\n",
      "12           5.518578e-02\n",
      "13           2.728899e-02\n",
      "14           1.185844e-02\n",
      "15           4.463171e-03\n",
      "16           1.448721e-03\n",
      "17           4.081768e-04\n",
      "18           1.015108e-04\n",
      "19           2.289554e-05\n",
      "20           4.846490e-06\n",
      "21           9.921587e-07\n",
      "22           1.985802e-07\n",
      "23           3.840642e-08\n",
      "24           7.018811e-09\n"
     ]
    }
   ],
   "source": [
    "from mb.modelbase import Density, Split, Aggregation\n",
    "\n",
    "# get variable object\n",
    "mpg_city = model.byname('mpg_city')\n",
    "\n",
    "# query for density over\n",
    "res = model.predict(Density(mpg_city), splitby=Split(mpg_city))\n",
    "print(res)"
   ],
   "metadata": {
    "collapsed": false,
    "pycharm": {
     "name": "#%%\n"
    }
   }
  },
  {
   "cell_type": "markdown",
   "source": [
    "Now we could use this to plot it"
   ],
   "metadata": {
    "collapsed": false
   }
  },
  {
   "cell_type": "code",
   "execution_count": 3,
   "outputs": [
    {
     "data": {
      "text/plain": "<matplotlib.axes._subplots.AxesSubplot at 0x7f22206f9e80>"
     },
     "execution_count": 3,
     "metadata": {},
     "output_type": "execute_result"
    },
    {
     "data": {
      "text/plain": "<Figure size 432x288 with 1 Axes>",
      "image/png": "[encoded data removed]"
     },
     "metadata": {
      "needs_background": "light"
     },
     "output_type": "display_data"
    }
   ],
   "source": [
    "res.plot()"
   ],
   "metadata": {
    "collapsed": false,
    "pycharm": {
     "name": "#%%\n"
    }
   }
  },
  {
   "cell_type": "markdown",
   "source": [
    "We can easily query for more points like this to make the curve smoother:"
   ],
   "metadata": {
    "collapsed": false,
    "pycharm": {
     "name": "#%% md\n"
    }
   }
  },
  {
   "cell_type": "code",
   "execution_count": 4,
   "outputs": [
    {
     "data": {
      "text/plain": "<matplotlib.axes._subplots.AxesSubplot at 0x7f222062ae10>"
     },
     "execution_count": 4,
     "metadata": {},
     "output_type": "execute_result"
    },
    {
     "data": {
      "text/plain": "<Figure size 432x288 with 1 Axes>",
      "image/png": "[encoded data removed]"
     },
     "metadata": {
      "needs_background": "light"
     },
     "output_type": "display_data"
    }
   ],
   "source": [
    "model.predict(Density(mpg_city), splitby=Split(mpg_city, args=[100] )).plot()"
   ],
   "metadata": {
    "collapsed": false,
    "pycharm": {
     "name": "#%%\n"
    }
   }
  },
  {
   "cell_type": "markdown",
   "metadata": {
    "pycharm": {
     "name": "#%% md\n"
    }
   },
   "source": [
    "We can also use this syntax to systematically predict one variable given another.\n",
    "Note how we use `Aggregation` instead of `Density`, and how the given variables is in the `Split`-clause."
   ]
  },
  {
   "cell_type": "code",
   "execution_count": 5,
   "outputs": [
    {
     "data": {
      "text/plain": "   mpg_city@maximum(['mpg_city'])\n0                       13.700191\n1                       19.758232\n2                       15.483792\n3                       17.303923\n4                       13.331982\n5                       14.653354\n6                       15.418866\n7                       19.150947\n8                       15.357625\n9                       16.743381",
      "text/html": "<div>\n<style scoped>\n    .dataframe tbody tr th:only-of-type {\n        vertical-align: middle;\n    }\n\n    .dataframe tbody tr th {\n        vertical-align: top;\n    }\n\n    .dataframe thead th {\n        text-align: right;\n    }\n</style>\n<table border=\"1\" class=\"dataframe\">\n  <thead>\n    <tr style=\"text-align: right;\">\n      <th></th>\n      <th>mpg_city@maximum(['mpg_city'])</th>\n    </tr>\n  </thead>\n  <tbody>\n    <tr>\n      <th>0</th>\n      <td>13.700191</td>\n    </tr>\n    <tr>\n      <th>1</th>\n      <td>19.758232</td>\n    </tr>\n    <tr>\n      <th>2</th>\n      <td>15.483792</td>\n    </tr>\n    <tr>\n      <th>3</th>\n      <td>17.303923</td>\n    </tr>\n    <tr>\n      <th>4</th>\n      <td>13.331982</td>\n    </tr>\n    <tr>\n      <th>5</th>\n      <td>14.653354</td>\n    </tr>\n    <tr>\n      <th>6</th>\n      <td>15.418866</td>\n    </tr>\n    <tr>\n      <th>7</th>\n      <td>19.150947</td>\n    </tr>\n    <tr>\n      <th>8</th>\n      <td>15.357625</td>\n    </tr>\n    <tr>\n      <th>9</th>\n      <td>16.743381</td>\n    </tr>\n  </tbody>\n</table>\n</div>"
     },
     "execution_count": 5,
     "metadata": {},
     "output_type": "execute_result"
    }
   ],
   "source": [
    "car_size = model.byname('car_size')\n",
    "model.predict(Aggregation(mpg_city), splitby=Split(car_size))"
   ],
   "metadata": {
    "collapsed": false,
    "pycharm": {
     "name": "#%%\n"
    }
   }
  },
  {
   "cell_type": "markdown",
   "source": [
    "As you can see, this only returns the prediction for `mpg_city`.\n",
    "To also include the predictor `car_size`, simply tell `predict` to do so.\n",
    "\n",
    "Hence, this tables tells us the prediction of miles per gallon in the city for different car sizes:"
   ],
   "metadata": {
    "collapsed": false,
    "pycharm": {
     "name": "#%% md\n"
    }
   }
  },
  {
   "cell_type": "code",
   "execution_count": 6,
   "outputs": [
    {
     "data": {
      "text/plain": "        car_size  mpg_city@maximum(['mpg_city'])\n0      cargo van                       13.700191\n1    compact car                       19.758232\n2      large car                       15.483792\n3    midsize car                       17.303923\n4  passenger van                       13.331982\n5         pickup                       14.653354\n6            spv                       15.418866\n7  station wagon                       19.150947\n8            suv                       15.357625\n9     two seater                       16.743381",
      "text/html": "<div>\n<style scoped>\n    .dataframe tbody tr th:only-of-type {\n        vertical-align: middle;\n    }\n\n    .dataframe tbody tr th {\n        vertical-align: top;\n    }\n\n    .dataframe thead th {\n        text-align: right;\n    }\n</style>\n<table border=\"1\" class=\"dataframe\">\n  <thead>\n    <tr style=\"text-align: right;\">\n      <th></th>\n      <th>car_size</th>\n      <th>mpg_city@maximum(['mpg_city'])</th>\n    </tr>\n  </thead>\n  <tbody>\n    <tr>\n      <th>0</th>\n      <td>cargo van</td>\n      <td>13.700191</td>\n    </tr>\n    <tr>\n      <th>1</th>\n      <td>compact car</td>\n      <td>19.758232</td>\n    </tr>\n    <tr>\n      <th>2</th>\n      <td>large car</td>\n      <td>15.483792</td>\n    </tr>\n    <tr>\n      <th>3</th>\n      <td>midsize car</td>\n      <td>17.303923</td>\n    </tr>\n    <tr>\n      <th>4</th>\n      <td>passenger van</td>\n      <td>13.331982</td>\n    </tr>\n    <tr>\n      <th>5</th>\n      <td>pickup</td>\n      <td>14.653354</td>\n    </tr>\n    <tr>\n      <th>6</th>\n      <td>spv</td>\n      <td>15.418866</td>\n    </tr>\n    <tr>\n      <th>7</th>\n      <td>station wagon</td>\n      <td>19.150947</td>\n    </tr>\n    <tr>\n      <th>8</th>\n      <td>suv</td>\n      <td>15.357625</td>\n    </tr>\n    <tr>\n      <th>9</th>\n      <td>two seater</td>\n      <td>16.743381</td>\n    </tr>\n  </tbody>\n</table>\n</div>"
     },
     "execution_count": 6,
     "metadata": {},
     "output_type": "execute_result"
    }
   ],
   "source": [
    "model.predict([\"car_size\", Aggregation(mpg_city)], splitby=Split(car_size))"
   ],
   "metadata": {
    "collapsed": false,
    "pycharm": {
     "name": "#%%\n"
    }
   }
  },
  {
   "cell_type": "markdown",
   "source": [
    "Since we can freely choose what to predict and what to input, we can also swap the prediction.\n",
    "Here, we predict the most likely `car_size` given a number of values for `mpg_city`."
   ],
   "metadata": {
    "collapsed": false,
    "pycharm": {
     "name": "#%% md\n"
    }
   }
  },
  {
   "cell_type": "code",
   "execution_count": 7,
   "outputs": [
    {
     "data": {
      "text/plain": "    mpg_city car_size@maximum(['car_size'])\n0    3.01296                     two seater\n1    4.93488                     two seater\n2    6.85680                     two seater\n3    8.77872                         pickup\n4   10.70064                         pickup\n5   12.62256                         pickup\n6   14.54448                         pickup\n7   16.46640                    compact car\n8   18.38832                    compact car\n9   20.31024                    compact car\n10  22.23216                    compact car\n11  24.15408                    compact car\n12  26.07600                    compact car\n13  27.99792                    compact car\n14  29.91984                    compact car\n15  31.84176                    compact car\n16  33.76368                    compact car\n17  35.68560                    compact car\n18  37.60752                    compact car\n19  39.52944                    compact car\n20  41.45136                     two seater\n21  43.37328                     two seater\n22  45.29520                     two seater\n23  47.21712                     two seater\n24  49.13904                     two seater",
      "text/html": "<div>\n<style scoped>\n    .dataframe tbody tr th:only-of-type {\n        vertical-align: middle;\n    }\n\n    .dataframe tbody tr th {\n        vertical-align: top;\n    }\n\n    .dataframe thead th {\n        text-align: right;\n    }\n</style>\n<table border=\"1\" class=\"dataframe\">\n  <thead>\n    <tr style=\"text-align: right;\">\n      <th></th>\n      <th>mpg_city</th>\n      <th>car_size@maximum(['car_size'])</th>\n    </tr>\n  </thead>\n  <tbody>\n    <tr>\n      <th>0</th>\n      <td>3.01296</td>\n      <td>two seater</td>\n    </tr>\n    <tr>\n      <th>1</th>\n      <td>4.93488</td>\n      <td>two seater</td>\n    </tr>\n    <tr>\n      <th>2</th>\n      <td>6.85680</td>\n      <td>two seater</td>\n    </tr>\n    <tr>\n      <th>3</th>\n      <td>8.77872</td>\n      <td>pickup</td>\n    </tr>\n    <tr>\n      <th>4</th>\n      <td>10.70064</td>\n      <td>pickup</td>\n    </tr>\n    <tr>\n      <th>5</th>\n      <td>12.62256</td>\n      <td>pickup</td>\n    </tr>\n    <tr>\n      <th>6</th>\n      <td>14.54448</td>\n      <td>pickup</td>\n    </tr>\n    <tr>\n      <th>7</th>\n      <td>16.46640</td>\n      <td>compact car</td>\n    </tr>\n    <tr>\n      <th>8</th>\n      <td>18.38832</td>\n      <td>compact car</td>\n    </tr>\n    <tr>\n      <th>9</th>\n      <td>20.31024</td>\n      <td>compact car</td>\n    </tr>\n    <tr>\n      <th>10</th>\n      <td>22.23216</td>\n      <td>compact car</td>\n    </tr>\n    <tr>\n      <th>11</th>\n      <td>24.15408</td>\n      <td>compact car</td>\n    </tr>\n    <tr>\n      <th>12</th>\n      <td>26.07600</td>\n      <td>compact car</td>\n    </tr>\n    <tr>\n      <th>13</th>\n      <td>27.99792</td>\n      <td>compact car</td>\n    </tr>\n    <tr>\n      <th>14</th>\n      <td>29.91984</td>\n      <td>compact car</td>\n    </tr>\n    <tr>\n      <th>15</th>\n      <td>31.84176</td>\n      <td>compact car</td>\n    </tr>\n    <tr>\n      <th>16</th>\n      <td>33.76368</td>\n      <td>compact car</td>\n    </tr>\n    <tr>\n      <th>17</th>\n      <td>35.68560</td>\n      <td>compact car</td>\n    </tr>\n    <tr>\n      <th>18</th>\n      <td>37.60752</td>\n      <td>compact car</td>\n    </tr>\n    <tr>\n      <th>19</th>\n      <td>39.52944</td>\n      <td>compact car</td>\n    </tr>\n    <tr>\n      <th>20</th>\n      <td>41.45136</td>\n      <td>two seater</td>\n    </tr>\n    <tr>\n      <th>21</th>\n      <td>43.37328</td>\n      <td>two seater</td>\n    </tr>\n    <tr>\n      <th>22</th>\n      <td>45.29520</td>\n      <td>two seater</td>\n    </tr>\n    <tr>\n      <th>23</th>\n      <td>47.21712</td>\n      <td>two seater</td>\n    </tr>\n    <tr>\n      <th>24</th>\n      <td>49.13904</td>\n      <td>two seater</td>\n    </tr>\n  </tbody>\n</table>\n</div>"
     },
     "execution_count": 7,
     "metadata": {},
     "output_type": "execute_result"
    }
   ],
   "source": [
    "model.predict([\"mpg_city\", Aggregation(car_size)], splitby=Split(mpg_city))"
   ],
   "metadata": {
    "collapsed": false,
    "pycharm": {
     "name": "#%%\n"
    }
   }
  },
  {
   "cell_type": "markdown",
   "source": [
    "We can also apply filters (conditions) to such a query.\n",
    "We can even predict multiple variables at once.\n",
    "And, we can of course group by more than one group.\n",
    "For the next query we only want to consider cars build after 1988,\n",
    "and predict the to-be-expected miles per gallon in the city (`mpg_city`), as well as their number of cylinders (`cylinder`).\n",
    "We will group the prediction by the `car_size` as well as by their `displacement`:"
   ],
   "metadata": {
    "collapsed": false,
    "pycharm": {
     "name": "#%% md\n"
    }
   }
  },
  {
   "cell_type": "code",
   "execution_count": 10,
   "outputs": [],
   "source": [
    "from mb.modelbase import Condition\n",
    "\n",
    "displacement = model.byname('displacement')\n",
    "year = model.byname('year')\n",
    "cylinder = model.byname('cylinder')"
   ],
   "metadata": {
    "collapsed": false,
    "pycharm": {
     "name": "#%%\n"
    }
   }
  },
  {
   "cell_type": "code",
   "execution_count": 18,
   "outputs": [
    {
     "name": "stdout",
     "output_type": "stream",
     "text": [
      "       car_size  displacement  mpg_city@maximum(['mpg_city'])  \\\n",
      "0     cargo van     -0.959616                       22.522418   \n",
      "1     cargo van     -0.560448                       21.894709   \n",
      "2     cargo van     -0.161280                       21.267000   \n",
      "3     cargo van      0.237888                       20.639291   \n",
      "4     cargo van      0.637056                       20.011581   \n",
      "..          ...           ...                             ...   \n",
      "245  two seater      7.023744                        7.597138   \n",
      "246  two seater      7.422912                        6.608243   \n",
      "247  two seater      7.822080                        5.619348   \n",
      "248  two seater      8.221248                        4.630453   \n",
      "249  two seater      8.620416                        3.641558   \n",
      "\n",
      "     cylinder@maximum(['cylinder'])  \n",
      "0                          0.306662  \n",
      "1                          0.768844  \n",
      "2                          1.231026  \n",
      "3                          1.693207  \n",
      "4                          2.155389  \n",
      "..                              ...  \n",
      "245                       11.583824  \n",
      "246                       12.152501  \n",
      "247                       12.721179  \n",
      "248                       13.289857  \n",
      "249                       13.858535  \n",
      "\n",
      "[250 rows x 4 columns]\n"
     ]
    }
   ],
   "source": [
    "res = model.predict([\"car_size\", \"displacement\", Aggregation(mpg_city), Aggregation(cylinder)],\n",
    "                    splitby=[Split(car_size), Split(displacement)],\n",
    "                    where=Condition(year, \">\", 1988))\n",
    "\n",
    "print(res)"
   ],
   "metadata": {
    "collapsed": false,
    "pycharm": {
     "name": "#%%\n"
    }
   }
  }
 ],
 "metadata": {
  "kernelspec": {
   "display_name": "Python 3",
   "language": "python",
   "name": "python3"
  },
  "language_info": {
   "codemirror_mode": {
    "name": "ipython",
    "version": 3
   },
   "file_extension": ".py",
   "mimetype": "text/x-python",
   "name": "python",
   "nbconvert_exporter": "python",
   "pygments_lexer": "ipython3",
   "version": "3.6.6"
  }
 },
 "nbformat": 4,
 "nbformat_minor": 2
}