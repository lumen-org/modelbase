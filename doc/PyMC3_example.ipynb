{
 "cells": [
  {
   "cell_type": "markdown",
   "metadata": {},
   "source": [
    "# Using the mb_modelbase package on probabilistic models built in PyMC3 \n",
    "\n",
    "Below is explained how `modelbase can be used to manipulate models built in PyMC3. This is necessary for displaying such models in the Lumen frontend. PyMC3 is a Python package for probabilistic programming that provides tools for describing and drawing inference from probabilistic Bayesian models.\n",
    "\n",
    "Note that you need to install the mb_pymc3 package to be able to run this code."
   ]
  },
  {
   "cell_type": "markdown",
   "metadata": {},
   "source": [
    "## Setting up an example model\n",
    "To illustrate the application, an example model is created first. The underlying data generating mechanism consists of a quantity mu which is drawn from a standard normal distribution, and a quantity x which is drawn from a normal distribution with mean mu. One hundred data points are drawn this way:\n"
   ]
  },
  {
   "cell_type": "code",
   "execution_count": 1,
   "metadata": {},
   "outputs": [],
   "source": [
    "# Generate data for the example model\n",
    "import numpy as np\n",
    "\n",
    "np.random.seed(2)\n",
    "size = 100\n",
    "mu = np.random.normal(0, 1, size=size)\n",
    "sigma = 1\n",
    "X = np.random.normal(mu, sigma, size=size)"
   ]
  },
  {
   "cell_type": "markdown",
   "metadata": {},
   "source": [
    "Assume now that the quantity x can be observed, but the quantity mu cannot be observed. Using PyMC3, we now fit a model to the observed data:"
   ]
  },
  {
   "cell_type": "code",
   "execution_count": 2,
   "metadata": {},
   "outputs": [],
   "source": [
    "# Set up model with PyMC3\n",
    "import pandas as pd\n",
    "import pymc3 as pm\n",
    "\n",
    "data = pd.DataFrame({'X': X})\n",
    "basic_model = pm.Model()\n",
    "with basic_model:\n",
    "    sigma = 1\n",
    "    mu = pm.Normal('mu', mu=0, sd=sigma)\n",
    "    X = pm.Normal('X', mu=mu, sd=sigma, observed=data['X'])"
   ]
  },
  {
   "cell_type": "markdown",
   "metadata": {},
   "source": [
    "## Perform operations on the model in mb_modelbase\n",
    "mb_modelbase can now work with this model by creating an instance of the ProbabilisticPymc3Model class:"
   ]
  },
  {
   "cell_type": "code",
   "execution_count": 19,
   "metadata": {},
   "outputs": [],
   "source": [
    "# Run operations on the model\n",
    "from mb import modelbase as mbase\n",
    "from mb.pymc3.pyMC3_model import ProbabilisticPymc3Model"
   ]
  },
  {
   "cell_type": "code",
   "execution_count": 20,
   "metadata": {},
   "outputs": [],
   "source": [
    "modelname = 'pymc3_testcase_model'\n",
    "m = ProbabilisticPymc3Model(modelname, basic_model)"
   ]
  },
  {
   "cell_type": "markdown",
   "metadata": {},
   "source": [
    "In order to perform meaningful operations, the model has to be fitted. In the probabilistic context, this means that samples are created from the joint posterior disribution."
   ]
  },
  {
   "cell_type": "code",
   "execution_count": 21,
   "metadata": {},
   "outputs": [
    {
     "name": "stderr",
     "output_type": "stream",
     "text": [
      "/home/luca_ph/venv/modelbase_venv/lib/python3.6/site-packages/pymc3/sampling.py:468: FutureWarning: In an upcoming release, pm.sample will return an `arviz.InferenceData` object instead of a `MultiTrace` by default. You can pass return_inferencedata=True or return_inferencedata=False to be safe and silence this warning.\n",
      "  FutureWarning,\n",
      "Auto-assigning NUTS sampler...\n",
      "16:45:22.142 INFO :: Auto-assigning NUTS sampler...\n",
      "Initializing NUTS using jitter+adapt_diag...\n",
      "16:45:22.144 INFO :: Initializing NUTS using jitter+adapt_diag...\n",
      "Sequential sampling (1 chains in 1 job)\n",
      "16:45:22.724 INFO :: Sequential sampling (1 chains in 1 job)\n",
      "NUTS: [mu]\n",
      "16:45:22.725 INFO :: NUTS: [mu]\n",
      "Sampling 1 chain for 1_000 tune and 5_000 draw iterations (1_000 + 5_000 draws total) took 4 seconds.\n",
      "16:45:26.258 INFO :: Sampling 1 chain for 1_000 tune and 5_000 draw iterations (1_000 + 5_000 draws total) took 4 seconds.\n",
      "Only one chain was sampled, this makes it impossible to run some convergence checks\n",
      "16:45:26.491 INFO :: Only one chain was sampled, this makes it impossible to run some convergence checks\n"
     ]
    },
    {
     "data": {
      "text/html": [
       "\n",
       "    <div>\n",
       "        <style>\n",
       "            /* Turns off some styling */\n",
       "            progress {\n",
       "                /* gets rid of default border in Firefox and Opera. */\n",
       "                border: none;\n",
       "                /* Needs to be in here for Safari polyfill so background images work as expected. */\n",
       "                background-size: auto;\n",
       "            }\n",
       "            .progress-bar-interrupted, .progress-bar-interrupted::-webkit-progress-bar {\n",
       "                background: #F44336;\n",
       "            }\n",
       "        </style>\n",
       "      <progress value='5000' class='' max='5000' style='width:300px; height:20px; vertical-align: middle;'></progress>\n",
       "      100.00% [5000/5000 00:03<00:00]\n",
       "    </div>\n",
       "    "
      ],
      "text/plain": [
       "<IPython.core.display.HTML object>"
      ]
     },
     "metadata": {},
     "output_type": "display_data"
    },
    {
     "data": {
      "text/plain": [
       "<mb.pymc3.pyMC3_model.ProbabilisticPymc3Model at 0x7f77941717f0>"
      ]
     },
     "execution_count": 21,
     "metadata": {},
     "output_type": "execute_result"
    }
   ],
   "source": [
    "m.fit(data)"
   ]
  },
  {
   "cell_type": "markdown",
   "metadata": {},
   "source": [
    "After that, is is possible to query probability density for specific points as well as calculating the point of highest probability density."
   ]
  },
  {
   "cell_type": "code",
   "execution_count": 22,
   "metadata": {},
   "outputs": [
    {
     "data": {
      "text/plain": [
       "[-0.04034574411281257, 0.004604064157903235]"
      ]
     },
     "execution_count": 22,
     "metadata": {},
     "output_type": "execute_result"
    }
   ],
   "source": [
    "m.density([0,0])\n",
    "m.aggregate_model(method='maximum')"
   ]
  },
  {
   "cell_type": "markdown",
   "metadata": {},
   "source": [
    "It is also possible to marginalize and condition the model. Notice, that conditioning here only means that the of the domain variable is set. The model itself is not actually changed until the marginalize-method is called."
   ]
  },
  {
   "cell_type": "code",
   "execution_count": 24,
   "metadata": {},
   "outputs": [],
   "source": [
    "marginalized = m.copy().marginalize(remove='X')"
   ]
  },
  {
   "cell_type": "code",
   "execution_count": 25,
   "metadata": {},
   "outputs": [],
   "source": [
    "condition = mbase.ConditionTuple('X', '>', 0)\n",
    "conditioned = m.copy().condition(condition).marginalize(remove='X')"
   ]
  },
  {
   "cell_type": "code",
   "execution_count": 26,
   "metadata": {},
   "outputs": [
    {
     "data": {
      "text/plain": [
       "[0.00954966244803028]"
      ]
     },
     "execution_count": 26,
     "metadata": {},
     "output_type": "execute_result"
    }
   ],
   "source": [
    "conditioned.aggregate_model(method='maximum')"
   ]
  },
  {
   "cell_type": "code",
   "execution_count": 27,
   "metadata": {},
   "outputs": [
    {
     "data": {
      "text/plain": [
       "3.952328521428373"
      ]
     },
     "execution_count": 27,
     "metadata": {},
     "output_type": "execute_result"
    }
   ],
   "source": [
    "conditioned.density([0])"
   ]
  }
 ],
 "metadata": {
  "kernelspec": {
   "display_name": "Python 3",
   "language": "python",
   "name": "python3"
  },
  "language_info": {
   "codemirror_mode": {
    "name": "ipython",
    "version": 3
   },
   "file_extension": ".py",
   "mimetype": "text/x-python",
   "name": "python",
   "nbconvert_exporter": "python",
   "pygments_lexer": "ipython3",
   "version": "3.6.6"
  }
 },
 "nbformat": 4,
 "nbformat_minor": 2
}
