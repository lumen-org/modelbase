{
 "cells": [
  {
   "cell_type": "markdown",
   "metadata": {},
   "source": [
    "# Exploring Data with Lumen\n",
    "\n",
    "This notebook explains how you can use Lumen to explore (tabular) data in  [lumen](https://github.com/lumen-org/lumen).\n",
    "Generally, Lumen allows you to explore 'models'.\n",
    "Here, the term 'model' is used in the sense of statistical modelling, where a model typically aims to describe a\n",
    "particular process that generated data well enough.\n",
    "If you want to look at data only, you can do so, but you have to wrap it in a special, very simple model. We will call\n",
    "these models 'data-models', which tries to emphasis the fact that these models are actually not much more than the\n",
    "data itself.\n",
    "\n",
    "Let's get started!"
   ]
  },
  {
   "cell_type": "markdown",
   "source": [
    "## Overview\n",
    "\n",
    "We will use `modelbase` as the back-end and `lumen` as the front-end.\n",
    "\n",
    "### Back-end\n",
    "The backend serves two purposes:\n",
    " 1. manage models, watch a specific directory for new models/changed models, and\n",
    " 2. provide an API to run complex inference queries on models.\n",
    "\n",
    "You may use the API directly (see also: TODO) to run inference queries, however, in many\n",
    "cases it maybe much more convenient to use the front-end instead.\n",
    "If you wonder what queries are, then you may imagine them as specific questions, that you ask the model.\n",
    "Here are some examples:\n",
    "\n",
    "  * 'How does that marginal distribution of the variable \"age\" look like?'\n",
    "  * 'What is the most likely value for \"income\" given that a person has \"low education\"?'\n",
    "  * 'What do samples drawn from the model look like for the variables \"east-west\" and \"age\"?\n",
    "\n",
    "### Front-end\n",
    "The front-end gives you a visual interactive interface to configure, run and visualize a wide\n",
    "range of possibly complex queries.\n",
    "It does not require any programming from your side. The front-end connects\n",
    "to an instance of the backend to actually execute any queries."
   ],
   "metadata": {
    "collapsed": false,
    "pycharm": {
     "name": "#%% md\n"
    }
   }
  },
  {
   "cell_type": "markdown",
   "metadata": {
    "pycharm": {
     "name": "#%% md\n"
    }
   },
   "source": [
    "To this end, there are two model types available, a 'empirical model' and a kernel-density-estimator (KDE) model.\n",
    "\n",
    "This script let's you quickly:\n",
    " * create an empirical model from given csv/pd.DataFrame\n",
    " * store the model at the correct location for your local Lumen instance to load it"
   ]
  },
  {
   "cell_type": "markdown",
   "source": [
    "## Example Data Exploration Workflow\n",
    "\n",
    "To work with Lumen we simply have to:\n",
    " 1. start the back-end,\n",
    " 2. start the front-end, and\n",
    " 3. wrap your data into a data model and save it in the folder `models_path` - the folder that is watched by the backend.\n",
    "\n",
    "#### Back-End\n",
    "The backend watches for changes in a folder.\n",
    "Run the following on a separate console to start the backend and let it watch models in the specified folder:\n",
    "\n",
    "```\n",
    "cd <dir-where-you-cloned-the-backend-source-to>\n",
    "python3 bin/webservice.py --d jupyter/models_data_exploration_example\n",
    "```\n",
    "\n",
    "#### Front-End\n",
    "The front-end is by default configured to use a local backend, that is, you don't have to do anything, but run it.\n",
    "Simply open its `index.html` in the base directory with a browser (preferably, chrome/chromium-based).\n",
    "\n",
    "Now, backend and frontend are ready. Let's start with the modelling workflow and create some models... !"
   ],
   "metadata": {
    "collapsed": false,
    "pycharm": {
     "name": "#%% md\n"
    }
   }
  },
  {
   "cell_type": "markdown",
   "source": [
    "## load modelbase back-end"
   ],
   "metadata": {
    "collapsed": false,
    "pycharm": {
     "name": "#%% md\n"
    }
   }
  },
  {
   "cell_type": "code",
   "execution_count": 15,
   "metadata": {},
   "outputs": [],
   "source": [
    "# make sure you run in the correct python environment where mb_modelbase is installed or this will fail!\n",
    "import mb.modelbase as mbase"
   ]
  },
  {
   "cell_type": "markdown",
   "metadata": {},
   "source": [
    "## prepare data"
   ]
  },
  {
   "cell_type": "code",
   "execution_count": 18,
   "metadata": {},
   "outputs": [
    {
     "data": {
      "text/plain": "  transmission cylinder  turbo car_size  year  mpg_city  mpg_highway  \\\n0       manual      few  False        1  1984      23.0         35.0   \n1       manual      few  False        1  1984      25.0         36.0   \n2         auto   medium  False        1  1984      16.0         28.0   \n3       manual   medium  False        1  1984      16.0         28.0   \n4         auto   medium   True        1  1984      19.0         28.0   \n\n   displacement  \n0         120.0  \n1          91.0  \n2         350.0  \n3         350.0  \n4         181.0  ",
      "text/html": "<div>\n<style scoped>\n    .dataframe tbody tr th:only-of-type {\n        vertical-align: middle;\n    }\n\n    .dataframe tbody tr th {\n        vertical-align: top;\n    }\n\n    .dataframe thead th {\n        text-align: right;\n    }\n</style>\n<table border=\"1\" class=\"dataframe\">\n  <thead>\n    <tr style=\"text-align: right;\">\n      <th></th>\n      <th>transmission</th>\n      <th>cylinder</th>\n      <th>turbo</th>\n      <th>car_size</th>\n      <th>year</th>\n      <th>mpg_city</th>\n      <th>mpg_highway</th>\n      <th>displacement</th>\n    </tr>\n  </thead>\n  <tbody>\n    <tr>\n      <th>0</th>\n      <td>manual</td>\n      <td>few</td>\n      <td>False</td>\n      <td>1</td>\n      <td>1984</td>\n      <td>23.0</td>\n      <td>35.0</td>\n      <td>120.0</td>\n    </tr>\n    <tr>\n      <th>1</th>\n      <td>manual</td>\n      <td>few</td>\n      <td>False</td>\n      <td>1</td>\n      <td>1984</td>\n      <td>25.0</td>\n      <td>36.0</td>\n      <td>91.0</td>\n    </tr>\n    <tr>\n      <th>2</th>\n      <td>auto</td>\n      <td>medium</td>\n      <td>False</td>\n      <td>1</td>\n      <td>1984</td>\n      <td>16.0</td>\n      <td>28.0</td>\n      <td>350.0</td>\n    </tr>\n    <tr>\n      <th>3</th>\n      <td>manual</td>\n      <td>medium</td>\n      <td>False</td>\n      <td>1</td>\n      <td>1984</td>\n      <td>16.0</td>\n      <td>28.0</td>\n      <td>350.0</td>\n    </tr>\n    <tr>\n      <th>4</th>\n      <td>auto</td>\n      <td>medium</td>\n      <td>True</td>\n      <td>1</td>\n      <td>1984</td>\n      <td>19.0</td>\n      <td>28.0</td>\n      <td>181.0</td>\n    </tr>\n  </tbody>\n</table>\n</div>"
     },
     "execution_count": 18,
     "metadata": {},
     "output_type": "execute_result"
    }
   ],
   "source": [
    "# we use some standard data about car and car engine properties\n",
    "from mb.data import mpg\n",
    "df = mpg.mixed()\n",
    "df.head()"
   ]
  },
  {
   "cell_type": "code",
   "execution_count": 13,
   "metadata": {},
   "outputs": [],
   "source": [
    "# this is where you could prep / modify / analyse your data\n",
    "\n",
    "# at the moment Lumen does not support the boolean type directly. but you can simply change it to a string type...\n",
    "for col in ['turbo']:\n",
    "    df[col] = df[col].astype('str')\n",
    "\n",
    "# ..."
   ]
  },
  {
   "cell_type": "markdown",
   "metadata": {},
   "source": [
    "## wrap DataFrame in data-model\n",
    "\n",
    "To look at the data in Lumen, just wrap it and save it."
   ]
  },
  {
   "cell_type": "code",
   "execution_count": 14,
   "metadata": {},
   "outputs": [
    {
     "name": "stdout",
     "output_type": "stream",
     "text": [
      "mpg_data_model(#transmission,#cylinder,#turbo,#car_size,±year,±mpg_city,±mpg_highway,±displacement)\n"
     ]
    },
    {
     "data": {
      "text/plain": "['manual',\n 'few',\n 'False',\n 'compact cars',\n 1995.0520879445182,\n 17.466467463479415,\n 23.536741921204072,\n 118.16603585657066]"
     },
     "execution_count": 14,
     "metadata": {},
     "output_type": "execute_result"
    }
   ],
   "source": [
    "# configuration\n",
    "modelname = 'mpg_data_model'\n",
    "output_directory = './models_data_exploration_example/'\n",
    "\n",
    "# make model and store it\n",
    "model = mbase.make_empirical_model(modelname, output_directory, df=df)\n",
    "\n",
    "# very brief summary of your model\n",
    "print(model.__short_str__())\n",
    "\n",
    "# this is just some random query to test that the models is probably ready to be used\n",
    "model.aggregate(method='maximum')"
   ]
  },
  {
   "cell_type": "markdown",
   "metadata": {
    "pycharm": {
     "name": "#%% md\n"
    }
   },
   "source": [
    "The moment a new model is saved the watched directory, the front-end will show a pop-up informing you about the new\n",
    "model (data-model). Click on it, and may can start exploring it.\n"
   ]
  },
  {
   "cell_type": "markdown",
   "metadata": {
    "pycharm": {
     "name": "#%% md\n"
    }
   },
   "source": [
    "### if it doesn't work\n",
    "\n",
    "You should make sure that:\n",
    " * the model is saved in the correct folder (i.e. where Lumen loads its models from)\n",
    " * that the backend is running at all!\n"
   ]
  }
 ],
 "metadata": {
  "kernelspec": {
   "display_name": "Python 3",
   "language": "python",
   "name": "python3"
  },
  "language_info": {
   "codemirror_mode": {
    "name": "ipython",
    "version": 3
   },
   "file_extension": ".py",
   "mimetype": "text/x-python",
   "name": "python",
   "nbconvert_exporter": "python",
   "pygments_lexer": "ipython3",
   "version": "3.6.6"
  }
 },
 "nbformat": 4,
 "nbformat_minor": 2
}