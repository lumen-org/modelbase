{
 "cells": [
  {
   "cell_type": "markdown",
   "source": [
    "## general playground for query against a modelbase"
   ],
   "metadata": {
    "collapsed": false
   }
  },
  {
   "cell_type": "code",
   "execution_count": 1,
   "metadata": {},
   "outputs": [],
   "source": [
    "%load_ext autoreload\n",
    "%autoreload 2"
   ]
  },
  {
   "cell_type": "code",
   "execution_count": 8,
   "outputs": [],
   "source": [
    "import json\n",
    "\n",
    "from mb.modelbase.server import ModelBase"
   ],
   "metadata": {
    "collapsed": false,
    "pycharm": {
     "name": "#%%\n"
    }
   }
  },
  {
   "cell_type": "code",
   "execution_count": 4,
   "outputs": [
    {
     "name": "stderr",
     "output_type": "stream",
     "text": [
      "18:21:48.689 INFO :: Loading models from directory '/home/luca_ph/Documents/projects/graphical_models/code/modelbase/dev/example_models'\n",
      "18:21:48.706 INFO :: Successfully loaded 3 models into the modelbase: \n",
      "18:21:48.707 INFO :: ['mcg_iris', 'mcg_crabs', 'emp_iris']\n",
      "18:21:48.710 INFO :: Files under /home/luca_ph/Documents/projects/graphical_models/code/modelbase/dev/example_models are watched for changes\n"
     ]
    }
   ],
   "source": [
    "#mbase = mb.ModelBase(name=\"kindergarden\", model_dir='./example_models')\n",
    "mbase = ModelBase(name=\"kindergarden\", model_dir='/home/luca_ph/Documents/projects/graphical_models/code/modelbase/dev/example_models')"
   ],
   "metadata": {
    "collapsed": false,
    "pycharm": {
     "name": "#%%\n"
    }
   }
  },
  {
   "cell_type": "code",
   "execution_count": 5,
   "outputs": [],
   "source": [
    "iris_model = mbase.get('mcg_iris')"
   ],
   "metadata": {
    "collapsed": false,
    "pycharm": {
     "name": "#%%\n"
    }
   }
  },
  {
   "cell_type": "code",
   "execution_count": 6,
   "outputs": [
    {
     "data": {
      "text/plain": "<mb_modelbase.models_core.empirical_model.EmpiricalModel at 0x7f27d5787cf8>"
     },
     "execution_count": 6,
     "metadata": {},
     "output_type": "execute_result"
    }
   ],
   "source": [
    "mbase.drop('emp_iris')"
   ],
   "metadata": {
    "collapsed": false,
    "pycharm": {
     "name": "#%%\n"
    }
   }
  },
  {
   "cell_type": "code",
   "execution_count": 13,
   "outputs": [
    {
     "data": {
      "text/plain": "'{\"name\": \"emp_iris\", \"fields\": [{\"name\": \"species\", \"domain\": null, \"extent\": [\"setosa\", \"versicolor\", \"virginica\"], \"dtype\": \"string\", \"obstype\": \"observed\", \"hidden\": false, \"default_value\": null, \"default_subset\": null, \"independent\": false}, {\"name\": \"sepal_length\", \"domain\": [null, null], \"extent\": [4.12, 8.08], \"dtype\": \"numerical\", \"obstype\": \"observed\", \"hidden\": false, \"default_value\": null, \"default_subset\": null, \"independent\": false}, {\"name\": \"sepal_width\", \"domain\": [null, null], \"extent\": [1.88, 4.5200000000000005], \"dtype\": \"numerical\", \"obstype\": \"observed\", \"hidden\": false, \"default_value\": null, \"default_subset\": null, \"independent\": false}, {\"name\": \"petal_length\", \"domain\": [null, null], \"extent\": [0.715, 6.985], \"dtype\": \"numerical\", \"obstype\": \"observed\", \"hidden\": false, \"default_value\": null, \"default_subset\": null, \"independent\": false}, {\"name\": \"petal_width\", \"domain\": [null, null], \"extent\": [-0.01999999999999999, 2.62], \"dtype\": \"numerical\", \"obstype\": \"observed\", \"hidden\": false, \"default_value\": null, \"default_subset\": null, \"independent\": false}], \"empirical model\": \"emp_iris\"}'"
     },
     "execution_count": 13,
     "metadata": {},
     "output_type": "execute_result"
    }
   ],
   "source": [
    "json_query = {'SHOW': 'HEADER',\n",
    "              'FROM': 'emp_iris',\n",
    "              'OPTS': {\n",
    "                  'AUTO_CREATE_MODEL':\n",
    "                      {'FOR_MODEL': 'mcg_iris'}\n",
    "              }}\n",
    "\n",
    "ret = mbase.execute(json_query)\n",
    "ret"
   ],
   "metadata": {
    "collapsed": false,
    "pycharm": {
     "name": "#%%\n"
    }
   }
  },
  {
   "cell_type": "code",
   "execution_count": 12,
   "outputs": [
    {
     "data": {
      "text/plain": "'\"{\\\\\"name\\\\\": \\\\\"emp_iris\\\\\", \\\\\"fields\\\\\": [{\\\\\"name\\\\\": \\\\\"species\\\\\", \\\\\"domain\\\\\": null, \\\\\"extent\\\\\": [\\\\\"setosa\\\\\", \\\\\"versicolor\\\\\", \\\\\"virginica\\\\\"], \\\\\"dtype\\\\\": \\\\\"string\\\\\", \\\\\"obstype\\\\\": \\\\\"observed\\\\\", \\\\\"hidden\\\\\": false, \\\\\"default_value\\\\\": null, \\\\\"default_subset\\\\\": null, \\\\\"independent\\\\\": false}, {\\\\\"name\\\\\": \\\\\"sepal_length\\\\\", \\\\\"domain\\\\\": [null, null], \\\\\"extent\\\\\": [4.12, 8.08], \\\\\"dtype\\\\\": \\\\\"numerical\\\\\", \\\\\"obstype\\\\\": \\\\\"observed\\\\\", \\\\\"hidden\\\\\": false, \\\\\"default_value\\\\\": null, \\\\\"default_subset\\\\\": null, \\\\\"independent\\\\\": false}, {\\\\\"name\\\\\": \\\\\"sepal_width\\\\\", \\\\\"domain\\\\\": [null, null], \\\\\"extent\\\\\": [1.88, 4.5200000000000005], \\\\\"dtype\\\\\": \\\\\"numerical\\\\\", \\\\\"obstype\\\\\": \\\\\"observed\\\\\", \\\\\"hidden\\\\\": false, \\\\\"default_value\\\\\": null, \\\\\"default_subset\\\\\": null, \\\\\"independent\\\\\": false}, {\\\\\"name\\\\\": \\\\\"petal_length\\\\\", \\\\\"domain\\\\\": [null, null], \\\\\"extent\\\\\": [0.715, 6.985], \\\\\"dtype\\\\\": \\\\\"numerical\\\\\", \\\\\"obstype\\\\\": \\\\\"observed\\\\\", \\\\\"hidden\\\\\": false, \\\\\"default_value\\\\\": null, \\\\\"default_subset\\\\\": null, \\\\\"independent\\\\\": false}, {\\\\\"name\\\\\": \\\\\"petal_width\\\\\", \\\\\"domain\\\\\": [null, null], \\\\\"extent\\\\\": [-0.01999999999999999, 2.62], \\\\\"dtype\\\\\": \\\\\"numerical\\\\\", \\\\\"obstype\\\\\": \\\\\"observed\\\\\", \\\\\"hidden\\\\\": false, \\\\\"default_value\\\\\": null, \\\\\"default_subset\\\\\": null, \\\\\"independent\\\\\": false}], \\\\\"empirical model\\\\\": \\\\\"emp_iris\\\\\"}\"'"
     },
     "execution_count": 12,
     "metadata": {},
     "output_type": "execute_result"
    }
   ],
   "source": [
    "json.dumps(ret, sort_keys=True, indent=2)\n",
    "\n"
   ],
   "metadata": {
    "collapsed": false,
    "pycharm": {
     "name": "#%%\n"
    }
   }
  },
  {
   "cell_type": "code",
   "execution_count": null,
   "outputs": [],
   "source": [
    "\n"
   ],
   "metadata": {
    "collapsed": false,
    "pycharm": {
     "name": "#%%\n"
    }
   }
  }
 ],
 "metadata": {
  "kernelspec": {
   "display_name": "Python 3",
   "language": "python",
   "name": "python3"
  },
  "language_info": {
   "codemirror_mode": {
    "name": "ipython",
    "version": 3
   },
   "file_extension": ".py",
   "mimetype": "text/x-python",
   "name": "python",
   "nbconvert_exporter": "python",
   "pygments_lexer": "ipython3",
   "version": "3.6.6"
  }
 },
 "nbformat": 4,
 "nbformat_minor": 2
}