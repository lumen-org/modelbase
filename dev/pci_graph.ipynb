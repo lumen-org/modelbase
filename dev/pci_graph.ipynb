{
 "cells": [
  {
   "cell_type": "markdown",
   "metadata": {},
   "source": [
    "# Learning graph from data\n",
    "\n",
    "Script that lets your learn a pair-wise conditionally independence graph based on CG models from data."
   ]
  },
  {
   "cell_type": "code",
   "execution_count": 2,
   "metadata": {},
   "outputs": [],
   "source": [
    "## import module\n",
    "from CGmodelselection.graph import get_graph_from_data"
   ]
  },
  {
   "cell_type": "markdown",
   "metadata": {},
   "source": [
    "**Specify the data to be used**\n",
    "\n",
    "Specify filename an optionally columns that shall not be loaded in the variable *drop*."
   ]
  },
  {
   "cell_type": "code",
   "execution_count": 6,
   "metadata": {},
   "outputs": [],
   "source": [
    "## chose one dataset here (or enter your own), list columns not to be loaded in variable <drop>\n",
    "#filename = \"unittest_data/australian-crabs.csv\"\n",
    "#drop =['index']\n",
    "\n",
    "filename = \"CGmodelselection/datasets/iris.csv\"\n",
    "drop = []\n",
    "\n",
    "#filename = \"datasets/titanic.csv\"\n",
    "#drop = ['PassengerId', 'Name', 'Ticket', 'SibSp', 'Parch']"
   ]
  },
  {
   "cell_type": "markdown",
   "metadata": {},
   "source": [
    "Disable autoscrolling for outputs."
   ]
  },
  {
   "cell_type": "code",
   "execution_count": 7,
   "metadata": {},
   "outputs": [
    {
     "data": {
      "application/javascript": [
       "IPython.OutputArea.prototype._should_scroll = function(lines) {\n",
       "    return false;\n",
       "}"
      ],
      "text/plain": [
       "<IPython.core.display.Javascript object>"
      ]
     },
     "metadata": {},
     "output_type": "display_data"
    }
   ],
   "source": [
    "%%javascript\n",
    "IPython.OutputArea.prototype._should_scroll = function(lines) {\n",
    "    return false;\n",
    "}"
   ]
  },
  {
   "cell_type": "markdown",
   "metadata": {},
   "source": [
    "**Learn the (weighted) graph**"
   ]
  },
  {
   "cell_type": "code",
   "execution_count": 8,
   "metadata": {
    "scrolled": true
   },
   "outputs": [
    {
     "name": "stdout",
     "output_type": "stream",
     "text": [
      "Filename: CGmodelselection/datasets/iris.csv\n",
      "Using a dataset with 150 samples, 1 discrete and 4 continuous variables.\n",
      "Discrete Variables: ['species']\n",
      "Continuous Variables: ['sepal_length', 'sepal_width', 'petal_length', 'petal_width']\n",
      "\n",
      "Solving problem.. Done.\n"
     ]
    },
    {
     "data": {
      "image/png": "[encoded data removed]",
      "text/plain": [
       "<Figure size 1008x504 with 3 Axes>"
      ]
     },
     "metadata": {},
     "output_type": "display_data"
    },
    {
     "name": "stdout",
     "output_type": "stream",
     "text": [
      "Legend:\n",
      "0 - species\n",
      "1 - sepal_length\n",
      "2 - sepal_width\n",
      "3 - petal_length\n",
      "4 - petal_width\n"
     ]
    }
   ],
   "source": [
    "## parameters for graph estimation\n",
    "standardize = True # standardize data before learning (recommended)\n",
    "kS = 2 # trade-off parameter for l1-regularization term\n",
    "model = 'PW' # choose from 'PW' (pairwise model) and 'CLZ' (CLZ model with triple interactions)\n",
    "graphthreshold = 1e-1 # threshold for graph\n",
    "\n",
    "## get matrix of group-norms (grpnormmat), graph (graph), and legend for row-/column names (dictionary dlegend)\n",
    "grpnormmat, graph, dlegend = get_graph_from_data(filename, drop = drop, model = model,\n",
    "                                                 graphthreshold = graphthreshold, standardize = standardize, kS = kS)"
   ]
  },
  {
   "cell_type": "code",
   "execution_count": 17,
   "metadata": {},
   "outputs": [],
   "source": [
    "def to_json(pci_graph):\n",
    "    \"\"\"Returns a serializable dict that has keys with values as follows:\n",
    "        'nodes': list of string labels of nodes\n",
    "        'edges': list of dict with keys source, target, weight\n",
    "    \"\"\"\n",
    "    weights = pci_graph['weight_matrix']\n",
    "    binary = pci_graph['binary_matrix']\n",
    "    labels = pci_graph['dimension_label']\n",
    "    edges = []\n",
    "\n",
    "    for i in range(weights.shape[0]):\n",
    "        for j in range(i, weights.shape[1]):\n",
    "            if binary[i,j]:\n",
    "                #print('i={0}, j={1}'.format(i,j))\n",
    "                edges.append({\n",
    "                    'source': labels[i],\n",
    "                    'target': labels[j],\n",
    "                    'weight': weights[i, j],\n",
    "                })\n",
    "\n",
    "    return {\n",
    "        'nodes': labels,\n",
    "        'edges': edges,\n",
    "    }"
   ]
  },
  {
   "cell_type": "code",
   "execution_count": 18,
   "metadata": {},
   "outputs": [],
   "source": [
    "from mb_modelbase.utils import update_opts\n",
    "#del create\n",
    "def create(df, **kwargs):\n",
    "    \"\"\"Create and return a pair-wise conditionally independence graph for given DataFrame df.\"\"\"\n",
    "\n",
    "    valid_create_opts = {\n",
    "        'standardize': [True, False],\n",
    "        'model': ['PW', 'CLZ'],\n",
    "        'disp': [False]\n",
    "    }\n",
    "    default_create_opts = {\n",
    "        'standardize': True,  # standardize data before learning (recommended)\n",
    "        'model': 'PW',   # choose from 'PW' (pairwise model) and 'CLZ' (CLZ model with triple interactions)\n",
    "        'graphthreshold': 1e-1,  # trade-off parameter for l1-regularization term\n",
    "        'kS': 2,  # regularization parameter for l1 regularization\n",
    "        'disp': False,\n",
    "    }\n",
    "    opts = update_opts(default_create_opts, kwargs, valid_create_opts)\n",
    "\n",
    "    grpnormmat, graph, dlegend = get_graph_from_data(df, **opts)\n",
    "    return {\n",
    "        \"weight_matrix\": grpnormmat,\n",
    "        \"binary_matrix\": graph,\n",
    "        \"dimension_label\": dlegend,\n",
    "        \"opts\": opts,\n",
    "    }"
   ]
  },
  {
   "cell_type": "code",
   "execution_count": 19,
   "metadata": {},
   "outputs": [],
   "source": [
    "pci_graph = {\n",
    "        \"weight_matrix\": grpnormmat,\n",
    "        \"binary_matrix\": graph,\n",
    "        \"dimension_label\": dlegend\n",
    "    }"
   ]
  },
  {
   "cell_type": "code",
   "execution_count": 20,
   "metadata": {},
   "outputs": [
    {
     "data": {
      "text/html": [
       "<div>\n",
       "<style scoped>\n",
       "    .dataframe tbody tr th:only-of-type {\n",
       "        vertical-align: middle;\n",
       "    }\n",
       "\n",
       "    .dataframe tbody tr th {\n",
       "        vertical-align: top;\n",
       "    }\n",
       "\n",
       "    .dataframe thead th {\n",
       "        text-align: right;\n",
       "    }\n",
       "</style>\n",
       "<table border=\"1\" class=\"dataframe\">\n",
       "  <thead>\n",
       "    <tr style=\"text-align: right;\">\n",
       "      <th></th>\n",
       "      <th>sepal_length</th>\n",
       "      <th>sepal_width</th>\n",
       "      <th>petal_length</th>\n",
       "      <th>petal_width</th>\n",
       "      <th>species</th>\n",
       "    </tr>\n",
       "  </thead>\n",
       "  <tbody>\n",
       "    <tr>\n",
       "      <th>0</th>\n",
       "      <td>5.1</td>\n",
       "      <td>3.5</td>\n",
       "      <td>1.4</td>\n",
       "      <td>0.2</td>\n",
       "      <td>setosa</td>\n",
       "    </tr>\n",
       "    <tr>\n",
       "      <th>1</th>\n",
       "      <td>4.9</td>\n",
       "      <td>3.0</td>\n",
       "      <td>1.4</td>\n",
       "      <td>0.2</td>\n",
       "      <td>setosa</td>\n",
       "    </tr>\n",
       "    <tr>\n",
       "      <th>2</th>\n",
       "      <td>4.7</td>\n",
       "      <td>3.2</td>\n",
       "      <td>1.3</td>\n",
       "      <td>0.2</td>\n",
       "      <td>setosa</td>\n",
       "    </tr>\n",
       "    <tr>\n",
       "      <th>3</th>\n",
       "      <td>4.6</td>\n",
       "      <td>3.1</td>\n",
       "      <td>1.5</td>\n",
       "      <td>0.2</td>\n",
       "      <td>setosa</td>\n",
       "    </tr>\n",
       "    <tr>\n",
       "      <th>4</th>\n",
       "      <td>5.0</td>\n",
       "      <td>3.6</td>\n",
       "      <td>1.4</td>\n",
       "      <td>0.2</td>\n",
       "      <td>setosa</td>\n",
       "    </tr>\n",
       "  </tbody>\n",
       "</table>\n",
       "</div>"
      ],
      "text/plain": [
       "   sepal_length  sepal_width  petal_length  petal_width species\n",
       "0           5.1          3.5           1.4          0.2  setosa\n",
       "1           4.9          3.0           1.4          0.2  setosa\n",
       "2           4.7          3.2           1.3          0.2  setosa\n",
       "3           4.6          3.1           1.5          0.2  setosa\n",
       "4           5.0          3.6           1.4          0.2  setosa"
      ]
     },
     "execution_count": 20,
     "metadata": {},
     "output_type": "execute_result"
    }
   ],
   "source": [
    "import pandas as pd\n",
    "df = pd.read_csv('CGmodelselection/datasets/iris.csv')\n",
    "df.head()"
   ]
  },
  {
   "cell_type": "code",
   "execution_count": 21,
   "metadata": {},
   "outputs": [
    {
     "data": {
      "text/plain": [
       "{'binary_matrix': array([[False, False,  True,  True,  True],\n",
       "        [False, False,  True,  True, False],\n",
       "        [ True,  True, False,  True, False],\n",
       "        [ True,  True,  True, False,  True],\n",
       "        [ True, False, False,  True, False]]),\n",
       " 'dimension_label': {0: 'species',\n",
       "  1: 'sepal_length',\n",
       "  2: 'sepal_width',\n",
       "  3: 'petal_length',\n",
       "  4: 'petal_width'},\n",
       " 'opts': {'disp': False,\n",
       "  'graphthreshold': 0.1,\n",
       "  'kS': 2,\n",
       "  'model': 'PW',\n",
       "  'standardize': True},\n",
       " 'weight_matrix': array([[0.00000000e+00, 8.33463292e-05, 7.14932961e-01, 1.40744870e-01,\n",
       "         1.86651037e+00],\n",
       "        [8.33463292e-05, 0.00000000e+00, 2.05527437e-01, 1.65847069e+00,\n",
       "         9.34653751e-05],\n",
       "        [7.14932961e-01, 2.05527437e-01, 0.00000000e+00, 4.29175570e-01,\n",
       "         4.09705988e-05],\n",
       "        [1.40744870e-01, 1.65847069e+00, 4.29175570e-01, 0.00000000e+00,\n",
       "         2.53157890e+00],\n",
       "        [1.86651037e+00, 9.34653751e-05, 4.09705988e-05, 2.53157890e+00,\n",
       "         0.00000000e+00]])}"
      ]
     },
     "execution_count": 21,
     "metadata": {},
     "output_type": "execute_result"
    }
   ],
   "source": [
    "foo = create(df)\n",
    "foo"
   ]
  },
  {
   "cell_type": "code",
   "execution_count": 22,
   "metadata": {},
   "outputs": [
    {
     "data": {
      "text/plain": [
       "{0: 'species',\n",
       " 1: 'sepal_length',\n",
       " 2: 'sepal_width',\n",
       " 3: 'petal_length',\n",
       " 4: 'petal_width'}"
      ]
     },
     "execution_count": 22,
     "metadata": {},
     "output_type": "execute_result"
    }
   ],
   "source": [
    "foo['dimension_label']"
   ]
  },
  {
   "cell_type": "code",
   "execution_count": 23,
   "metadata": {},
   "outputs": [
    {
     "data": {
      "text/plain": [
       "{'edges': [{'source': 'species',\n",
       "   'target': 'sepal_width',\n",
       "   'weight': 0.7149329610107523},\n",
       "  {'source': 'species',\n",
       "   'target': 'petal_length',\n",
       "   'weight': 0.14074486966148353},\n",
       "  {'source': 'species', 'target': 'petal_width', 'weight': 1.8665103697775873},\n",
       "  {'source': 'sepal_length',\n",
       "   'target': 'sepal_width',\n",
       "   'weight': 0.20552743677579877},\n",
       "  {'source': 'sepal_length',\n",
       "   'target': 'petal_length',\n",
       "   'weight': 1.6584706911489808},\n",
       "  {'source': 'sepal_width',\n",
       "   'target': 'petal_length',\n",
       "   'weight': 0.42917556995019096},\n",
       "  {'source': 'petal_length',\n",
       "   'target': 'petal_width',\n",
       "   'weight': 2.5315788998632964}],\n",
       " 'nodes': {0: 'species',\n",
       "  1: 'sepal_length',\n",
       "  2: 'sepal_width',\n",
       "  3: 'petal_length',\n",
       "  4: 'petal_width'}}"
      ]
     },
     "execution_count": 23,
     "metadata": {},
     "output_type": "execute_result"
    }
   ],
   "source": [
    "to_json(foo)"
   ]
  },
  {
   "cell_type": "code",
   "execution_count": 22,
   "metadata": {},
   "outputs": [
    {
     "data": {
      "text/plain": [
       "array([[0.00000000e+00, 8.33463292e-05, 7.14932961e-01, 1.40744870e-01,\n",
       "        1.86651037e+00],\n",
       "       [8.33463292e-05, 0.00000000e+00, 2.05527437e-01, 1.65847069e+00,\n",
       "        9.34653751e-05],\n",
       "       [7.14932961e-01, 2.05527437e-01, 0.00000000e+00, 4.29175570e-01,\n",
       "        4.09705988e-05],\n",
       "       [1.40744870e-01, 1.65847069e+00, 4.29175570e-01, 0.00000000e+00,\n",
       "        2.53157890e+00],\n",
       "       [1.86651037e+00, 9.34653751e-05, 4.09705988e-05, 2.53157890e+00,\n",
       "        0.00000000e+00]])"
      ]
     },
     "execution_count": 22,
     "metadata": {},
     "output_type": "execute_result"
    }
   ],
   "source": [
    "pci_graph['weight_matrix']"
   ]
  },
  {
   "cell_type": "markdown",
   "metadata": {},
   "source": [
    "**We might also want to rank the edges in terms of their respective edge weights (i.e., their corresponding group-norms).**"
   ]
  },
  {
   "cell_type": "code",
   "execution_count": 5,
   "metadata": {},
   "outputs": [
    {
     "name": "stdout",
     "output_type": "stream",
     "text": [
      "\n",
      "Edge\tEdgeweight\n",
      "4-3\t2.53\n",
      "4-0\t1.87\n",
      "3-1\t1.66\n",
      "2-0\t0.71\n",
      "3-2\t0.43\n",
      "2-1\t0.21\n",
      "3-0\t0.14\n"
     ]
    }
   ],
   "source": [
    "from CGmodelselection.graph import order_edges_by_weight\n",
    "\n",
    "all_ordered_edges = order_edges_by_weight(grpnormmat, disp = True, graphthreshold = graphthreshold)"
   ]
  },
  {
   "cell_type": "code",
   "execution_count": 6,
   "metadata": {},
   "outputs": [
    {
     "data": {
      "text/plain": [
       "[(2.5316271269980142, (4, 3)),\n",
       " (1.8665811666620116, (4, 0)),\n",
       " (1.6584870326637182, (3, 1)),\n",
       " (0.71493664893482634, (2, 0)),\n",
       " (0.42919539066998397, (3, 2)),\n",
       " (0.20551741556151062, (2, 1)),\n",
       " (0.14069238384717406, (3, 0)),\n",
       " (9.3433223095025321e-05, (4, 1)),\n",
       " (8.3334998038462108e-05, (1, 0)),\n",
       " (4.0943646435990299e-05, (4, 2))]"
      ]
     },
     "execution_count": 6,
     "metadata": {},
     "output_type": "execute_result"
    }
   ],
   "source": [
    "# print all edges\n",
    "all_ordered_edges"
   ]
  }
 ],
 "metadata": {
  "kernelspec": {
   "display_name": "Python 3",
   "language": "python",
   "name": "python3"
  },
  "language_info": {
   "codemirror_mode": {
    "name": "ipython",
    "version": 3
   },
   "file_extension": ".py",
   "mimetype": "text/x-python",
   "name": "python",
   "nbconvert_exporter": "python",
   "pygments_lexer": "ipython3",
   "version": "3.6.6"
  }
 },
 "nbformat": 4,
 "nbformat_minor": 2
}
