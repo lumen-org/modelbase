{
 "cells": [
  {
   "cell_type": "code",
   "execution_count": 1,
   "metadata": {},
   "outputs": [],
   "source": [
    "%load_ext autoreload\n",
    "%autoreload 2"
   ]
  },
  {
   "cell_type": "code",
   "execution_count": 2,
   "metadata": {},
   "outputs": [],
   "source": [
    "import mb_modelbase as mb\n",
    "import pandas as pd\n",
    "import numpy as np"
   ]
  },
  {
   "cell_type": "code",
   "execution_count": 9,
   "metadata": {},
   "outputs": [],
   "source": [
    "from mb_modelbase.models_core.gspnmodel import GSPNModel\n",
    "from mb_modelbase.models_core.empirical_model import EmpiricalModel"
   ]
  },
  {
   "cell_type": "markdown",
   "metadata": {},
   "source": [
    "## learn models from data"
   ]
  },
  {
   "cell_type": "code",
   "execution_count": 10,
   "metadata": {},
   "outputs": [],
   "source": [
    "iris_data = pd.read_csv(\"../doc/data/iris.csv\")"
   ]
  },
  {
   "cell_type": "code",
   "execution_count": 11,
   "metadata": {},
   "outputs": [],
   "source": [
    "iris_spec = {'gspn_iris': lambda: ({'class': GSPNModel, \n",
    "                                    'data': iris_data, \n",
    "                                    'fitopts': {'empirical_model_name': 'emp_iris'}}),\n",
    "             'emp_iris': lambda: ({'class': EmpiricalModel, \n",
    "                                   'data': iris_data, \n",
    "                                   'fitopts': {'empirical_model_name': 'emp_iris'}})\n",
    "            }"
   ]
  },
  {
   "cell_type": "code",
   "execution_count": 12,
   "metadata": {},
   "outputs": [
    {
     "name": "stderr",
     "output_type": "stream",
     "text": [
      "18:31:50.413 INFO :: Fitted 2 models in total: {'emp_iris', 'gspn_iris'}\n"
     ]
    },
    {
     "name": "stdout",
     "output_type": "stream",
     "text": [
      "[([0, 1, 2, 3, 4],      sepal_length  sepal_width  petal_length  petal_width  species\n",
      "0             5.1          3.5           1.4          0.2        0\n",
      "1             4.9          3.0           1.4          0.2        0\n",
      "2             4.7          3.2           1.3          0.2        0\n",
      "3             4.6          3.1           1.5          0.2        0\n",
      "4             5.0          3.6           1.4          0.2        0\n",
      "5             5.4          3.9           1.7          0.4        0\n",
      "6             4.6          3.4           1.4          0.3        0\n",
      "7             5.0          3.4           1.5          0.2        0\n",
      "8             4.4          2.9           1.4          0.2        0\n",
      "9             4.9          3.1           1.5          0.1        0\n",
      "10            5.4          3.7           1.5          0.2        0\n",
      "11            4.8          3.4           1.6          0.2        0\n",
      "12            4.8          3.0           1.4          0.1        0\n",
      "13            4.3          3.0           1.1          0.1        0\n",
      "14            5.8          4.0           1.2          0.2        0\n",
      "15            5.7          4.4           1.5          0.4        0\n",
      "16            5.4          3.9           1.3          0.4        0\n",
      "17            5.1          3.5           1.4          0.3        0\n",
      "18            5.7          3.8           1.7          0.3        0\n",
      "19            5.1          3.8           1.5          0.3        0\n",
      "20            5.4          3.4           1.7          0.2        0\n",
      "21            5.1          3.7           1.5          0.4        0\n",
      "22            4.6          3.6           1.0          0.2        0\n",
      "23            5.1          3.3           1.7          0.5        0\n",
      "24            4.8          3.4           1.9          0.2        0\n",
      "25            5.0          3.0           1.6          0.2        0\n",
      "26            5.0          3.4           1.6          0.4        0\n",
      "27            5.2          3.5           1.5          0.2        0\n",
      "28            5.2          3.4           1.4          0.2        0\n",
      "29            4.7          3.2           1.6          0.2        0\n",
      "..            ...          ...           ...          ...      ...\n",
      "120           6.9          3.2           5.7          2.3        2\n",
      "121           5.6          2.8           4.9          2.0        2\n",
      "122           7.7          2.8           6.7          2.0        2\n",
      "123           6.3          2.7           4.9          1.8        2\n",
      "124           6.7          3.3           5.7          2.1        2\n",
      "125           7.2          3.2           6.0          1.8        2\n",
      "126           6.2          2.8           4.8          1.8        2\n",
      "127           6.1          3.0           4.9          1.8        2\n",
      "128           6.4          2.8           5.6          2.1        2\n",
      "129           7.2          3.0           5.8          1.6        2\n",
      "130           7.4          2.8           6.1          1.9        2\n",
      "131           7.9          3.8           6.4          2.0        2\n",
      "132           6.4          2.8           5.6          2.2        2\n",
      "133           6.3          2.8           5.1          1.5        2\n",
      "134           6.1          2.6           5.6          1.4        2\n",
      "135           7.7          3.0           6.1          2.3        2\n",
      "136           6.3          3.4           5.6          2.4        2\n",
      "137           6.4          3.1           5.5          1.8        2\n",
      "138           6.0          3.0           4.8          1.8        2\n",
      "139           6.9          3.1           5.4          2.1        2\n",
      "140           6.7          3.1           5.6          2.4        2\n",
      "141           6.9          3.1           5.1          2.3        2\n",
      "142           5.8          2.7           5.1          1.9        2\n",
      "143           6.8          3.2           5.9          2.3        2\n",
      "144           6.7          3.3           5.7          2.5        2\n",
      "145           6.7          3.0           5.2          2.3        2\n",
      "146           6.3          2.5           5.0          1.9        2\n",
      "147           6.5          3.0           5.2          2.0        2\n",
      "148           6.2          3.4           5.4          2.3        2\n",
      "149           5.9          3.0           5.1          1.8        2\n",
      "\n",
      "[150 rows x 5 columns], x)]\n",
      "[([3, 4], array([3, 4]), +), ([2], array([2]), +), ([0], array([0]), +), ([1], array([1]), +)]\n",
      "curious\n",
      "curious\n",
      "[([2], array([2]), +), ([0], array([0]), +), ([1], array([1]), +)]\n",
      "curious\n",
      "[([0], array([0]), +), ([1], array([1]), +)]\n",
      "curious\n",
      "[([1], array([1]), +)]\n",
      "curious\n"
     ]
    }
   ],
   "source": [
    "models = mb.fit_models(iris_spec)"
   ]
  },
  {
   "cell_type": "code",
   "execution_count": 13,
   "metadata": {},
   "outputs": [
    {
     "name": "stderr",
     "output_type": "stream",
     "text": [
      "18:32:05.193 INFO :: Files under ../../models_ppl are watched for changes\n",
      "18:32:05.704 INFO :: Ignoring Model. Model with same name already exists\n",
      "18:32:05.707 INFO :: ['gspn_iris', 'emp_iris']\n"
     ]
    }
   ],
   "source": [
    "# save models if you want\n",
    "#mb.save_models(models, '../../models_ppl')"
   ]
  },
  {
   "cell_type": "markdown",
   "metadata": {},
   "source": [
    "## run density query on marginal model"
   ]
  },
  {
   "cell_type": "code",
   "execution_count": 22,
   "metadata": {},
   "outputs": [],
   "source": [
    "# get gspn model \n",
    "gspn_iris = models['gspn_iris']['model']"
   ]
  },
  {
   "cell_type": "code",
   "execution_count": 24,
   "metadata": {},
   "outputs": [],
   "source": [
    "# get a particular field (dimension)\n",
    "sepal_length = gspn_iris.byname('sepal_length')"
   ]
  },
  {
   "cell_type": "code",
   "execution_count": 28,
   "metadata": {},
   "outputs": [
    {
     "data": {
      "text/html": [
       "<div>\n",
       "<style scoped>\n",
       "    .dataframe tbody tr th:only-of-type {\n",
       "        vertical-align: middle;\n",
       "    }\n",
       "\n",
       "    .dataframe tbody tr th {\n",
       "        vertical-align: top;\n",
       "    }\n",
       "\n",
       "    .dataframe thead th {\n",
       "        text-align: right;\n",
       "    }\n",
       "</style>\n",
       "<table border=\"1\" class=\"dataframe\">\n",
       "  <thead>\n",
       "    <tr style=\"text-align: right;\">\n",
       "      <th></th>\n",
       "      <th>sepal_length</th>\n",
       "      <th>density(['sepal_length'])</th>\n",
       "    </tr>\n",
       "  </thead>\n",
       "  <tbody>\n",
       "    <tr>\n",
       "      <th>0</th>\n",
       "      <td>4.0264</td>\n",
       "      <td>0.0</td>\n",
       "    </tr>\n",
       "    <tr>\n",
       "      <th>1</th>\n",
       "      <td>4.1992</td>\n",
       "      <td>0.0</td>\n",
       "    </tr>\n",
       "    <tr>\n",
       "      <th>2</th>\n",
       "      <td>4.3720</td>\n",
       "      <td>0.0</td>\n",
       "    </tr>\n",
       "    <tr>\n",
       "      <th>3</th>\n",
       "      <td>4.5448</td>\n",
       "      <td>0.0</td>\n",
       "    </tr>\n",
       "    <tr>\n",
       "      <th>4</th>\n",
       "      <td>4.7176</td>\n",
       "      <td>0.0</td>\n",
       "    </tr>\n",
       "    <tr>\n",
       "      <th>5</th>\n",
       "      <td>4.8904</td>\n",
       "      <td>0.0</td>\n",
       "    </tr>\n",
       "    <tr>\n",
       "      <th>6</th>\n",
       "      <td>5.0632</td>\n",
       "      <td>0.0</td>\n",
       "    </tr>\n",
       "    <tr>\n",
       "      <th>7</th>\n",
       "      <td>5.2360</td>\n",
       "      <td>0.0</td>\n",
       "    </tr>\n",
       "    <tr>\n",
       "      <th>8</th>\n",
       "      <td>5.4088</td>\n",
       "      <td>0.0</td>\n",
       "    </tr>\n",
       "    <tr>\n",
       "      <th>9</th>\n",
       "      <td>5.5816</td>\n",
       "      <td>0.0</td>\n",
       "    </tr>\n",
       "    <tr>\n",
       "      <th>10</th>\n",
       "      <td>5.7544</td>\n",
       "      <td>0.0</td>\n",
       "    </tr>\n",
       "    <tr>\n",
       "      <th>11</th>\n",
       "      <td>5.9272</td>\n",
       "      <td>0.0</td>\n",
       "    </tr>\n",
       "    <tr>\n",
       "      <th>12</th>\n",
       "      <td>6.1000</td>\n",
       "      <td>0.0</td>\n",
       "    </tr>\n",
       "    <tr>\n",
       "      <th>13</th>\n",
       "      <td>6.2728</td>\n",
       "      <td>0.0</td>\n",
       "    </tr>\n",
       "    <tr>\n",
       "      <th>14</th>\n",
       "      <td>6.4456</td>\n",
       "      <td>0.0</td>\n",
       "    </tr>\n",
       "    <tr>\n",
       "      <th>15</th>\n",
       "      <td>6.6184</td>\n",
       "      <td>0.0</td>\n",
       "    </tr>\n",
       "    <tr>\n",
       "      <th>16</th>\n",
       "      <td>6.7912</td>\n",
       "      <td>0.0</td>\n",
       "    </tr>\n",
       "    <tr>\n",
       "      <th>17</th>\n",
       "      <td>6.9640</td>\n",
       "      <td>0.0</td>\n",
       "    </tr>\n",
       "    <tr>\n",
       "      <th>18</th>\n",
       "      <td>7.1368</td>\n",
       "      <td>0.0</td>\n",
       "    </tr>\n",
       "    <tr>\n",
       "      <th>19</th>\n",
       "      <td>7.3096</td>\n",
       "      <td>0.0</td>\n",
       "    </tr>\n",
       "    <tr>\n",
       "      <th>20</th>\n",
       "      <td>7.4824</td>\n",
       "      <td>0.0</td>\n",
       "    </tr>\n",
       "    <tr>\n",
       "      <th>21</th>\n",
       "      <td>7.6552</td>\n",
       "      <td>0.0</td>\n",
       "    </tr>\n",
       "    <tr>\n",
       "      <th>22</th>\n",
       "      <td>7.8280</td>\n",
       "      <td>0.0</td>\n",
       "    </tr>\n",
       "    <tr>\n",
       "      <th>23</th>\n",
       "      <td>8.0008</td>\n",
       "      <td>0.0</td>\n",
       "    </tr>\n",
       "    <tr>\n",
       "      <th>24</th>\n",
       "      <td>8.1736</td>\n",
       "      <td>0.0</td>\n",
       "    </tr>\n",
       "  </tbody>\n",
       "</table>\n",
       "</div>"
      ],
      "text/plain": [
       "    sepal_length  density(['sepal_length'])\n",
       "0         4.0264                        0.0\n",
       "1         4.1992                        0.0\n",
       "2         4.3720                        0.0\n",
       "3         4.5448                        0.0\n",
       "4         4.7176                        0.0\n",
       "5         4.8904                        0.0\n",
       "6         5.0632                        0.0\n",
       "7         5.2360                        0.0\n",
       "8         5.4088                        0.0\n",
       "9         5.5816                        0.0\n",
       "10        5.7544                        0.0\n",
       "11        5.9272                        0.0\n",
       "12        6.1000                        0.0\n",
       "13        6.2728                        0.0\n",
       "14        6.4456                        0.0\n",
       "15        6.6184                        0.0\n",
       "16        6.7912                        0.0\n",
       "17        6.9640                        0.0\n",
       "18        7.1368                        0.0\n",
       "19        7.3096                        0.0\n",
       "20        7.4824                        0.0\n",
       "21        7.6552                        0.0\n",
       "22        7.8280                        0.0\n",
       "23        8.0008                        0.0\n",
       "24        8.1736                        0.0"
      ]
     },
     "execution_count": 28,
     "metadata": {},
     "output_type": "execute_result"
    }
   ],
   "source": [
    "# use it to run a query that gives the marginal density along sepal_length\n",
    "gspn_iris.predict(predict=['sepal_length', mb.Density(sepal_length)], splitby=mb.Split(sepal_length))"
   ]
  },
  {
   "cell_type": "code",
   "execution_count": null,
   "metadata": {},
   "outputs": [],
   "source": []
  }
 ],
 "metadata": {
  "kernelspec": {
   "display_name": "Python 3",
   "language": "python",
   "name": "python3"
  },
  "language_info": {
   "codemirror_mode": {
    "name": "ipython",
    "version": 3
   },
   "file_extension": ".py",
   "mimetype": "text/x-python",
   "name": "python",
   "nbconvert_exporter": "python",
   "pygments_lexer": "ipython3",
   "version": "3.6.6"
  }
 },
 "nbformat": 4,
 "nbformat_minor": 2
}
