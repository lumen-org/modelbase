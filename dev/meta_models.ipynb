{
 "cells": [
  {
   "cell_type": "markdown",
   "metadata": {},
   "source": [
    "# Meta Models\n",
    "\n",
    "Some interface ideas for implementation.\n",
    "\n",
    "The general idea is to abstract over specific model classes and allow single queries across multiple model classes for better comparision, etc!"
   ]
  },
  {
   "cell_type": "code",
   "execution_count": 1,
   "metadata": {},
   "outputs": [],
   "source": [
    "from mb_modelbase import Model"
   ]
  },
  {
   "cell_type": "code",
   "execution_count": 3,
   "metadata": {},
   "outputs": [],
   "source": [
    "\n",
    "class MetaModel(Model):\n",
    "    \"\"\"A MetaModel is a model that provides a uniform interface to models, models classes, learning parameters and \n",
    "    more.\n",
    "    \"\"\"\n",
    "    \n",
    "    def predict():\n",
    "        \"\"\"\"\"\"\n",
    "        \n",
    "        # \n",
    "        \n",
    "        "
   ]
  },
  {
   "cell_type": "markdown",
   "metadata": {},
   "source": [
    "## examplary usages"
   ]
  },
  {
   "cell_type": "markdown",
   "metadata": {},
   "source": [
    "For each model type, give me XXX:\n",
    " \n",
    " * PREDICT aggr(sex) GROUPBY model_class\n",
    " \n"
   ]
  }
 ],
 "metadata": {
  "kernelspec": {
   "display_name": "Python 3",
   "language": "python",
   "name": "python3"
  },
  "language_info": {
   "codemirror_mode": {
    "name": "ipython",
    "version": 3
   },
   "file_extension": ".py",
   "mimetype": "text/x-python",
   "name": "python",
   "nbconvert_exporter": "python",
   "pygments_lexer": "ipython3",
   "version": "3.6.6"
  }
 },
 "nbformat": 4,
 "nbformat_minor": 2
}
