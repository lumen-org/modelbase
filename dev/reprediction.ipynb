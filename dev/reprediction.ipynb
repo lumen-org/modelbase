{
 "cells": [
  {
   "cell_type": "markdown",
   "metadata": {
    "collapsed": true,
    "pycharm": {
     "name": "#%% md\n"
    }
   },
   "source": [
    "## The Making of the reprediction and difference data frames for Joshua\n",
    "\n",
    "### Passende Email an Joshua\n",
    "Hi Joshua,\n",
    "\n",
    "Eine Idee war ja dein Tool einmal für Validierung von Machine-Learning-Modellen zu verwenden. Ich hab heut mal was vorbereitet :(Überraschung, es war mehr Aufwand als ich dachte ;) )\n",
    "\n",
    "Anbei 2x3 CSV-Datensätze wie folgt:\n",
    "\n",
    "Zwei verschiedene Daten (Iris, ALLBUS):\n",
    "\n",
    "Iris ist der bekannte Iris-Datensatz\n",
    "ALLBUS ist ein sozio-ökonomischer Datensatz über Individuen (https://www.gesis.org/en/allbus/allbus-home)\n",
    "\n",
    "Drei Dateien je Datensatz, die jeweils zueinander in Beziehung gesetzt werden können. Spricht die die i,j -te Zelle der drei Dateien beziehen sich jeweils aufeinander.\n",
    "\n",
    "*_data: der originale Datensatz\n",
    "*_reprediction.csv: jedes Attribute eines jedes Datenitems aus dem _data aus den übrigen Attributen vorhergesagt\n",
    "*_reprediction_difference.csv: der Unterschied zwischen _data und _reprediction.csv (\"equality\" for kategorische, und \"subtraction\" für quantitative)\n",
    "\n",
    "Ich bin gespannt was bei raus kommt!\n",
    "Frag gern nach!\n",
    "\n",
    "Viele Grüße\n",
    "Philipp\n",
    "\n"
   ]
  },
  {
   "cell_type": "code",
   "execution_count": 14,
   "outputs": [
    {
     "name": "stdout",
     "output_type": "stream",
     "text": [
      "The autoreload extension is already loaded. To reload it, use:\n",
      "  %reload_ext autoreload\n"
     ]
    }
   ],
   "source": [
    "%load_ext autoreload\n",
    "%autoreload 2\n",
    "import mb_modelbase as mb"
   ],
   "metadata": {
    "collapsed": false,
    "pycharm": {
     "name": "#%%\n"
    }
   }
  },
  {
   "cell_type": "markdown",
   "source": [
    "### Loading a Model"
   ],
   "metadata": {
    "collapsed": false,
    "pycharm": {
     "name": "#%% md\n"
    }
   }
  },
  {
   "cell_type": "code",
   "execution_count": 15,
   "outputs": [],
   "source": [
    "model_path = '/home/luca_ph/Documents/projects/graphical_models/code/data_models/'\n",
    "model_name = 'mcg_iris_map'\n",
    "\n",
    "model = mb.Model.load(model_path + model_name + '.mdl')\n",
    "data = model.data"
   ],
   "metadata": {
    "collapsed": false,
    "pycharm": {
     "name": "#%%\n"
    }
   }
  },
  {
   "cell_type": "markdown",
   "source": [
    "### Getting reprediction and difference"
   ],
   "metadata": {
    "collapsed": false
   }
  },
  {
   "cell_type": "code",
   "execution_count": 16,
   "outputs": [
    {
     "data": {
      "text/plain": "        species  sepal_length  sepal_width  petal_length  petal_width\n15   versicolor      6.348237     2.966627      4.650220     1.519611\n16    virginica      6.670415     3.024755      5.531227     2.028369\n17   versicolor      5.647726     2.638563      3.949301     1.198978\n18   versicolor      5.974504     2.749965      4.156894     1.334186\n19    virginica      6.474409     3.003773      5.455947     1.942917\n20       setosa      4.867122     3.281339      1.431449     0.254135\n21    virginica      6.320979     2.835602      5.186006     1.968731\n22       setosa      5.022240     3.402541      1.580874     0.279774\n23    virginica      6.477152     2.977826      5.430827     1.942917\n24    virginica      7.379830     3.234915      6.393956     2.343928\n25    virginica      6.427403     3.078259      5.678717     1.983039\n26    virginica      6.391595     2.957171      5.517879     1.845151\n27    virginica      6.823633     3.106444      5.753997     2.104278\n28       setosa      4.758780     3.330561      1.556586     0.263363\n29       setosa      4.812061     3.328789      1.485625     0.274887\n30       setosa      5.025209     3.270926      1.310834     0.154872\n31       setosa      5.562489     3.740864      1.583614     0.291115\n32   versicolor      6.141188     2.972132      4.657947     1.460819\n33       setosa      4.977243     3.328789      1.419185     0.252917\n34       setosa      4.836044     3.157508      1.335361     0.185579\n35    virginica      6.068493     2.899190      5.298259     1.792670\n36   versicolor      6.234342     2.946572      4.616946     1.481289\n37       setosa      5.021945     3.524762      1.525156     0.289883\n38       setosa      5.066646     3.436035      1.438951     0.246280\n39       setosa      5.329811     3.535335      1.343462     0.245943\n40    virginica      6.224454     2.810127      5.006429     1.878128\n41   versicolor      6.364261     2.895335      4.568439     1.516887\n42   versicolor      6.218318     3.017864      4.698727     1.484013\n43       setosa      5.266466     3.610860      1.598259     0.268600\n44       setosa      5.132067     3.619661      1.544921     0.302094\n..          ...           ...          ...           ...          ...\n120  versicolor      6.125164     2.863976      4.405489     1.417999\n121      setosa      4.362995     3.194384      1.615524     0.264918\n122  versicolor      6.052750     2.935151      4.520765     1.415381\n123  versicolor      5.823844     2.675832      3.982575     1.260494\n124      setosa      5.132067     3.572212      1.512892     0.288665\n125  versicolor      6.006552     2.707075      4.179020     1.354041\n126   virginica      6.823650     3.072977      5.913179     2.018439\n127   virginica      6.806985     3.033569      5.649619     2.127323\n128      setosa      5.177063     3.456164      1.546464     0.261808\n129  versicolor      5.450868     2.436047      3.618925     1.089248\n130   virginica      6.796016     3.137355      5.750100     2.127323\n131   virginica      6.686868     2.995781      5.808801     2.020013\n132      setosa      5.044148     3.399158      1.358106     0.232851\n133   virginica      6.642798     3.109968      5.710885     2.047834\n134      setosa      4.736281     3.388585      1.539800     0.276792\n135  versicolor      6.259799     3.069217      4.773002     1.509596\n136   virginica      6.682861     3.114143      5.992437     1.966765\n137   virginica      6.543336     2.881887      5.301329     1.980277\n138  versicolor      5.891540     2.727014      4.156894     1.303261\n139   virginica      6.561249     2.916648      5.430746     2.006898\n140  versicolor      5.666235     2.863859      4.231562     1.217218\n141  versicolor      5.990528     2.878060      4.446490     1.382067\n142   virginica      6.199579     2.796991      4.916226     1.902367\n143   virginica      6.401069     2.802281      5.063636     1.985432\n144      setosa      4.987603     3.607316      1.611361     0.342911\n145  versicolor      5.870800     2.801030      4.305445     1.315772\n146   virginica      5.873753     2.586685      4.391428     1.773597\n147      setosa      5.266171     3.827980      1.606599     0.305567\n148  versicolor      5.740881     2.712697      4.093988     1.244750\n149   virginica      6.713202     3.108853      5.873217     2.028364\n\n[135 rows x 5 columns]",
      "text/html": "<div>\n<style scoped>\n    .dataframe tbody tr th:only-of-type {\n        vertical-align: middle;\n    }\n\n    .dataframe tbody tr th {\n        vertical-align: top;\n    }\n\n    .dataframe thead th {\n        text-align: right;\n    }\n</style>\n<table border=\"1\" class=\"dataframe\">\n  <thead>\n    <tr style=\"text-align: right;\">\n      <th></th>\n      <th>species</th>\n      <th>sepal_length</th>\n      <th>sepal_width</th>\n      <th>petal_length</th>\n      <th>petal_width</th>\n    </tr>\n  </thead>\n  <tbody>\n    <tr>\n      <th>15</th>\n      <td>versicolor</td>\n      <td>6.348237</td>\n      <td>2.966627</td>\n      <td>4.650220</td>\n      <td>1.519611</td>\n    </tr>\n    <tr>\n      <th>16</th>\n      <td>virginica</td>\n      <td>6.670415</td>\n      <td>3.024755</td>\n      <td>5.531227</td>\n      <td>2.028369</td>\n    </tr>\n    <tr>\n      <th>17</th>\n      <td>versicolor</td>\n      <td>5.647726</td>\n      <td>2.638563</td>\n      <td>3.949301</td>\n      <td>1.198978</td>\n    </tr>\n    <tr>\n      <th>18</th>\n      <td>versicolor</td>\n      <td>5.974504</td>\n      <td>2.749965</td>\n      <td>4.156894</td>\n      <td>1.334186</td>\n    </tr>\n    <tr>\n      <th>19</th>\n      <td>virginica</td>\n      <td>6.474409</td>\n      <td>3.003773</td>\n      <td>5.455947</td>\n      <td>1.942917</td>\n    </tr>\n    <tr>\n      <th>20</th>\n      <td>setosa</td>\n      <td>4.867122</td>\n      <td>3.281339</td>\n      <td>1.431449</td>\n      <td>0.254135</td>\n    </tr>\n    <tr>\n      <th>21</th>\n      <td>virginica</td>\n      <td>6.320979</td>\n      <td>2.835602</td>\n      <td>5.186006</td>\n      <td>1.968731</td>\n    </tr>\n    <tr>\n      <th>22</th>\n      <td>setosa</td>\n      <td>5.022240</td>\n      <td>3.402541</td>\n      <td>1.580874</td>\n      <td>0.279774</td>\n    </tr>\n    <tr>\n      <th>23</th>\n      <td>virginica</td>\n      <td>6.477152</td>\n      <td>2.977826</td>\n      <td>5.430827</td>\n      <td>1.942917</td>\n    </tr>\n    <tr>\n      <th>24</th>\n      <td>virginica</td>\n      <td>7.379830</td>\n      <td>3.234915</td>\n      <td>6.393956</td>\n      <td>2.343928</td>\n    </tr>\n    <tr>\n      <th>25</th>\n      <td>virginica</td>\n      <td>6.427403</td>\n      <td>3.078259</td>\n      <td>5.678717</td>\n      <td>1.983039</td>\n    </tr>\n    <tr>\n      <th>26</th>\n      <td>virginica</td>\n      <td>6.391595</td>\n      <td>2.957171</td>\n      <td>5.517879</td>\n      <td>1.845151</td>\n    </tr>\n    <tr>\n      <th>27</th>\n      <td>virginica</td>\n      <td>6.823633</td>\n      <td>3.106444</td>\n      <td>5.753997</td>\n      <td>2.104278</td>\n    </tr>\n    <tr>\n      <th>28</th>\n      <td>setosa</td>\n      <td>4.758780</td>\n      <td>3.330561</td>\n      <td>1.556586</td>\n      <td>0.263363</td>\n    </tr>\n    <tr>\n      <th>29</th>\n      <td>setosa</td>\n      <td>4.812061</td>\n      <td>3.328789</td>\n      <td>1.485625</td>\n      <td>0.274887</td>\n    </tr>\n    <tr>\n      <th>30</th>\n      <td>setosa</td>\n      <td>5.025209</td>\n      <td>3.270926</td>\n      <td>1.310834</td>\n      <td>0.154872</td>\n    </tr>\n    <tr>\n      <th>31</th>\n      <td>setosa</td>\n      <td>5.562489</td>\n      <td>3.740864</td>\n      <td>1.583614</td>\n      <td>0.291115</td>\n    </tr>\n    <tr>\n      <th>32</th>\n      <td>versicolor</td>\n      <td>6.141188</td>\n      <td>2.972132</td>\n      <td>4.657947</td>\n      <td>1.460819</td>\n    </tr>\n    <tr>\n      <th>33</th>\n      <td>setosa</td>\n      <td>4.977243</td>\n      <td>3.328789</td>\n      <td>1.419185</td>\n      <td>0.252917</td>\n    </tr>\n    <tr>\n      <th>34</th>\n      <td>setosa</td>\n      <td>4.836044</td>\n      <td>3.157508</td>\n      <td>1.335361</td>\n      <td>0.185579</td>\n    </tr>\n    <tr>\n      <th>35</th>\n      <td>virginica</td>\n      <td>6.068493</td>\n      <td>2.899190</td>\n      <td>5.298259</td>\n      <td>1.792670</td>\n    </tr>\n    <tr>\n      <th>36</th>\n      <td>versicolor</td>\n      <td>6.234342</td>\n      <td>2.946572</td>\n      <td>4.616946</td>\n      <td>1.481289</td>\n    </tr>\n    <tr>\n      <th>37</th>\n      <td>setosa</td>\n      <td>5.021945</td>\n      <td>3.524762</td>\n      <td>1.525156</td>\n      <td>0.289883</td>\n    </tr>\n    <tr>\n      <th>38</th>\n      <td>setosa</td>\n      <td>5.066646</td>\n      <td>3.436035</td>\n      <td>1.438951</td>\n      <td>0.246280</td>\n    </tr>\n    <tr>\n      <th>39</th>\n      <td>setosa</td>\n      <td>5.329811</td>\n      <td>3.535335</td>\n      <td>1.343462</td>\n      <td>0.245943</td>\n    </tr>\n    <tr>\n      <th>40</th>\n      <td>virginica</td>\n      <td>6.224454</td>\n      <td>2.810127</td>\n      <td>5.006429</td>\n      <td>1.878128</td>\n    </tr>\n    <tr>\n      <th>41</th>\n      <td>versicolor</td>\n      <td>6.364261</td>\n      <td>2.895335</td>\n      <td>4.568439</td>\n      <td>1.516887</td>\n    </tr>\n    <tr>\n      <th>42</th>\n      <td>versicolor</td>\n      <td>6.218318</td>\n      <td>3.017864</td>\n      <td>4.698727</td>\n      <td>1.484013</td>\n    </tr>\n    <tr>\n      <th>43</th>\n      <td>setosa</td>\n      <td>5.266466</td>\n      <td>3.610860</td>\n      <td>1.598259</td>\n      <td>0.268600</td>\n    </tr>\n    <tr>\n      <th>44</th>\n      <td>setosa</td>\n      <td>5.132067</td>\n      <td>3.619661</td>\n      <td>1.544921</td>\n      <td>0.302094</td>\n    </tr>\n    <tr>\n      <th>...</th>\n      <td>...</td>\n      <td>...</td>\n      <td>...</td>\n      <td>...</td>\n      <td>...</td>\n    </tr>\n    <tr>\n      <th>120</th>\n      <td>versicolor</td>\n      <td>6.125164</td>\n      <td>2.863976</td>\n      <td>4.405489</td>\n      <td>1.417999</td>\n    </tr>\n    <tr>\n      <th>121</th>\n      <td>setosa</td>\n      <td>4.362995</td>\n      <td>3.194384</td>\n      <td>1.615524</td>\n      <td>0.264918</td>\n    </tr>\n    <tr>\n      <th>122</th>\n      <td>versicolor</td>\n      <td>6.052750</td>\n      <td>2.935151</td>\n      <td>4.520765</td>\n      <td>1.415381</td>\n    </tr>\n    <tr>\n      <th>123</th>\n      <td>versicolor</td>\n      <td>5.823844</td>\n      <td>2.675832</td>\n      <td>3.982575</td>\n      <td>1.260494</td>\n    </tr>\n    <tr>\n      <th>124</th>\n      <td>setosa</td>\n      <td>5.132067</td>\n      <td>3.572212</td>\n      <td>1.512892</td>\n      <td>0.288665</td>\n    </tr>\n    <tr>\n      <th>125</th>\n      <td>versicolor</td>\n      <td>6.006552</td>\n      <td>2.707075</td>\n      <td>4.179020</td>\n      <td>1.354041</td>\n    </tr>\n    <tr>\n      <th>126</th>\n      <td>virginica</td>\n      <td>6.823650</td>\n      <td>3.072977</td>\n      <td>5.913179</td>\n      <td>2.018439</td>\n    </tr>\n    <tr>\n      <th>127</th>\n      <td>virginica</td>\n      <td>6.806985</td>\n      <td>3.033569</td>\n      <td>5.649619</td>\n      <td>2.127323</td>\n    </tr>\n    <tr>\n      <th>128</th>\n      <td>setosa</td>\n      <td>5.177063</td>\n      <td>3.456164</td>\n      <td>1.546464</td>\n      <td>0.261808</td>\n    </tr>\n    <tr>\n      <th>129</th>\n      <td>versicolor</td>\n      <td>5.450868</td>\n      <td>2.436047</td>\n      <td>3.618925</td>\n      <td>1.089248</td>\n    </tr>\n    <tr>\n      <th>130</th>\n      <td>virginica</td>\n      <td>6.796016</td>\n      <td>3.137355</td>\n      <td>5.750100</td>\n      <td>2.127323</td>\n    </tr>\n    <tr>\n      <th>131</th>\n      <td>virginica</td>\n      <td>6.686868</td>\n      <td>2.995781</td>\n      <td>5.808801</td>\n      <td>2.020013</td>\n    </tr>\n    <tr>\n      <th>132</th>\n      <td>setosa</td>\n      <td>5.044148</td>\n      <td>3.399158</td>\n      <td>1.358106</td>\n      <td>0.232851</td>\n    </tr>\n    <tr>\n      <th>133</th>\n      <td>virginica</td>\n      <td>6.642798</td>\n      <td>3.109968</td>\n      <td>5.710885</td>\n      <td>2.047834</td>\n    </tr>\n    <tr>\n      <th>134</th>\n      <td>setosa</td>\n      <td>4.736281</td>\n      <td>3.388585</td>\n      <td>1.539800</td>\n      <td>0.276792</td>\n    </tr>\n    <tr>\n      <th>135</th>\n      <td>versicolor</td>\n      <td>6.259799</td>\n      <td>3.069217</td>\n      <td>4.773002</td>\n      <td>1.509596</td>\n    </tr>\n    <tr>\n      <th>136</th>\n      <td>virginica</td>\n      <td>6.682861</td>\n      <td>3.114143</td>\n      <td>5.992437</td>\n      <td>1.966765</td>\n    </tr>\n    <tr>\n      <th>137</th>\n      <td>virginica</td>\n      <td>6.543336</td>\n      <td>2.881887</td>\n      <td>5.301329</td>\n      <td>1.980277</td>\n    </tr>\n    <tr>\n      <th>138</th>\n      <td>versicolor</td>\n      <td>5.891540</td>\n      <td>2.727014</td>\n      <td>4.156894</td>\n      <td>1.303261</td>\n    </tr>\n    <tr>\n      <th>139</th>\n      <td>virginica</td>\n      <td>6.561249</td>\n      <td>2.916648</td>\n      <td>5.430746</td>\n      <td>2.006898</td>\n    </tr>\n    <tr>\n      <th>140</th>\n      <td>versicolor</td>\n      <td>5.666235</td>\n      <td>2.863859</td>\n      <td>4.231562</td>\n      <td>1.217218</td>\n    </tr>\n    <tr>\n      <th>141</th>\n      <td>versicolor</td>\n      <td>5.990528</td>\n      <td>2.878060</td>\n      <td>4.446490</td>\n      <td>1.382067</td>\n    </tr>\n    <tr>\n      <th>142</th>\n      <td>virginica</td>\n      <td>6.199579</td>\n      <td>2.796991</td>\n      <td>4.916226</td>\n      <td>1.902367</td>\n    </tr>\n    <tr>\n      <th>143</th>\n      <td>virginica</td>\n      <td>6.401069</td>\n      <td>2.802281</td>\n      <td>5.063636</td>\n      <td>1.985432</td>\n    </tr>\n    <tr>\n      <th>144</th>\n      <td>setosa</td>\n      <td>4.987603</td>\n      <td>3.607316</td>\n      <td>1.611361</td>\n      <td>0.342911</td>\n    </tr>\n    <tr>\n      <th>145</th>\n      <td>versicolor</td>\n      <td>5.870800</td>\n      <td>2.801030</td>\n      <td>4.305445</td>\n      <td>1.315772</td>\n    </tr>\n    <tr>\n      <th>146</th>\n      <td>virginica</td>\n      <td>5.873753</td>\n      <td>2.586685</td>\n      <td>4.391428</td>\n      <td>1.773597</td>\n    </tr>\n    <tr>\n      <th>147</th>\n      <td>setosa</td>\n      <td>5.266171</td>\n      <td>3.827980</td>\n      <td>1.606599</td>\n      <td>0.305567</td>\n    </tr>\n    <tr>\n      <th>148</th>\n      <td>versicolor</td>\n      <td>5.740881</td>\n      <td>2.712697</td>\n      <td>4.093988</td>\n      <td>1.244750</td>\n    </tr>\n    <tr>\n      <th>149</th>\n      <td>virginica</td>\n      <td>6.713202</td>\n      <td>3.108853</td>\n      <td>5.873217</td>\n      <td>2.028364</td>\n    </tr>\n  </tbody>\n</table>\n<p>135 rows × 5 columns</p>\n</div>"
     },
     "execution_count": 16,
     "metadata": {},
     "output_type": "execute_result"
    }
   ],
   "source": [
    "#pred = repredict(iris_model, iris_model.data, include=['species', 'sepal_length'])\n",
    "pred = mb.repredict(model, data)\n",
    "pred"
   ],
   "metadata": {
    "collapsed": false,
    "pycharm": {
     "name": "#%%\n"
    }
   }
  },
  {
   "cell_type": "code",
   "execution_count": 17,
   "outputs": [
    {
     "data": {
      "text/plain": "     species  sepal_length  sepal_width  petal_length  petal_width\n15      True      0.048237    -0.333373     -0.049780    -0.080389\n16      True      0.170415     0.024755     -0.268773    -0.171631\n17      True      0.047726     0.138563      0.049301     0.098978\n18      True      0.274504    -0.050035     -0.343106     0.034186\n19      True      0.074409     0.203773     -0.144053    -0.257083\n20      True      0.167122     0.081339     -0.168551     0.054135\n21      True      0.220979    -0.164398      0.286006     0.168731\n22      True      0.022240     0.002541     -0.019126    -0.120226\n23      True      0.077152     0.177826     -0.169173    -0.157083\n24      True     -0.520170    -0.565085     -0.006044     0.343928\n25      True     -0.272597     0.078259      0.478717    -0.316961\n26      True     -0.308405     0.457171     -0.282121     0.045151\n27      True      0.023633    -0.093556     -0.146003    -0.195722\n28      True     -0.041220     0.330561      0.156586    -0.036637\n29      True      0.012061     0.228789     -0.114375     0.074887\n30      True      0.425209    -0.329074      0.310834    -0.045128\n31      True     -0.137511    -0.659136      0.083614    -0.108885\n32      True     -0.558812    -0.127868      0.257947     0.060819\n33      True      0.177243    -0.071211     -0.180815     0.052917\n34      True      0.436044    -0.042492      0.035361    -0.014421\n35      True     -0.231507     0.399190      0.298259    -0.107330\n36      True     -0.165658    -0.253428      0.116946    -0.018711\n37      True     -0.178055     0.024762      0.025156     0.089883\n38      True      0.066646    -0.163965      0.038951     0.046280\n39      True      0.129811    -0.564665     -0.156538     0.145943\n40      True      0.424454     0.110127     -0.093571    -0.021872\n41      True      0.364261    -0.504665      0.068439    -0.083113\n42      True     -0.481682    -0.082136     -0.001273    -0.015987\n43      True     -0.133534    -0.289140      0.298259    -0.131400\n44      True     -0.267933    -0.080339      0.044921     0.102094\n..       ...           ...          ...           ...          ...\n120     True      0.025164    -0.136024     -0.194511     0.017999\n121     True     -0.137005     0.894384      0.315524    -0.035082\n122     True     -0.547250     0.035151     -0.079235     0.115381\n123     True      0.323844     0.075832     -0.417425     0.060494\n124     True     -0.167933    -0.127788      0.012892     0.088665\n125     True      0.406552    -0.292925      0.079020     0.054041\n126     True     -0.476350     0.172977     -0.386821     0.218439\n127     True      0.106985    -0.266431     -0.050381     0.027323\n128     True      0.077063    -0.243836      0.046464    -0.138192\n129     True      0.550868     0.036047      0.318925     0.089248\n130     True      0.096016    -0.162645      0.050100    -0.372677\n131     True     -0.513132    -0.004219      0.008801     0.420013\n132     True      0.144148    -0.200842     -0.041894     0.132851\n133     True     -0.057202     0.009968      0.110885    -0.352166\n134     True     -0.163719     0.388585      0.139800     0.076792\n135     True     -0.640201    -0.030783     -0.126998     0.009596\n136     True     -0.717139     0.314143     -0.107563     0.066765\n137     True      0.243336    -0.018113     -0.298671     0.180277\n138     True      0.191540    -0.072986      0.056894     0.003261\n139     True      0.061249    -0.083352     -0.069254     0.206898\n140     True     -0.633765     0.563859     -0.168438    -0.082782\n141     True     -0.409472    -0.021940      0.146490     0.082067\n142     True      0.599579    -0.003009      0.016226    -0.097633\n143     True      0.501069    -0.197719     -0.036364     0.185432\n144     True     -0.412397     0.207316     -0.088639     0.142911\n145     True     -0.229200     0.001030      0.305445     0.015772\n146     True      0.973753     0.086685     -0.108572     0.073597\n147     True     -0.533829    -0.172020      0.406599     0.105567\n148     True     -0.059119     0.112697      0.093988     0.044750\n149     True     -0.386798     0.108853     -0.026783    -0.071636\n\n[135 rows x 5 columns]",
      "text/html": "<div>\n<style scoped>\n    .dataframe tbody tr th:only-of-type {\n        vertical-align: middle;\n    }\n\n    .dataframe tbody tr th {\n        vertical-align: top;\n    }\n\n    .dataframe thead th {\n        text-align: right;\n    }\n</style>\n<table border=\"1\" class=\"dataframe\">\n  <thead>\n    <tr style=\"text-align: right;\">\n      <th></th>\n      <th>species</th>\n      <th>sepal_length</th>\n      <th>sepal_width</th>\n      <th>petal_length</th>\n      <th>petal_width</th>\n    </tr>\n  </thead>\n  <tbody>\n    <tr>\n      <th>15</th>\n      <td>True</td>\n      <td>0.048237</td>\n      <td>-0.333373</td>\n      <td>-0.049780</td>\n      <td>-0.080389</td>\n    </tr>\n    <tr>\n      <th>16</th>\n      <td>True</td>\n      <td>0.170415</td>\n      <td>0.024755</td>\n      <td>-0.268773</td>\n      <td>-0.171631</td>\n    </tr>\n    <tr>\n      <th>17</th>\n      <td>True</td>\n      <td>0.047726</td>\n      <td>0.138563</td>\n      <td>0.049301</td>\n      <td>0.098978</td>\n    </tr>\n    <tr>\n      <th>18</th>\n      <td>True</td>\n      <td>0.274504</td>\n      <td>-0.050035</td>\n      <td>-0.343106</td>\n      <td>0.034186</td>\n    </tr>\n    <tr>\n      <th>19</th>\n      <td>True</td>\n      <td>0.074409</td>\n      <td>0.203773</td>\n      <td>-0.144053</td>\n      <td>-0.257083</td>\n    </tr>\n    <tr>\n      <th>20</th>\n      <td>True</td>\n      <td>0.167122</td>\n      <td>0.081339</td>\n      <td>-0.168551</td>\n      <td>0.054135</td>\n    </tr>\n    <tr>\n      <th>21</th>\n      <td>True</td>\n      <td>0.220979</td>\n      <td>-0.164398</td>\n      <td>0.286006</td>\n      <td>0.168731</td>\n    </tr>\n    <tr>\n      <th>22</th>\n      <td>True</td>\n      <td>0.022240</td>\n      <td>0.002541</td>\n      <td>-0.019126</td>\n      <td>-0.120226</td>\n    </tr>\n    <tr>\n      <th>23</th>\n      <td>True</td>\n      <td>0.077152</td>\n      <td>0.177826</td>\n      <td>-0.169173</td>\n      <td>-0.157083</td>\n    </tr>\n    <tr>\n      <th>24</th>\n      <td>True</td>\n      <td>-0.520170</td>\n      <td>-0.565085</td>\n      <td>-0.006044</td>\n      <td>0.343928</td>\n    </tr>\n    <tr>\n      <th>25</th>\n      <td>True</td>\n      <td>-0.272597</td>\n      <td>0.078259</td>\n      <td>0.478717</td>\n      <td>-0.316961</td>\n    </tr>\n    <tr>\n      <th>26</th>\n      <td>True</td>\n      <td>-0.308405</td>\n      <td>0.457171</td>\n      <td>-0.282121</td>\n      <td>0.045151</td>\n    </tr>\n    <tr>\n      <th>27</th>\n      <td>True</td>\n      <td>0.023633</td>\n      <td>-0.093556</td>\n      <td>-0.146003</td>\n      <td>-0.195722</td>\n    </tr>\n    <tr>\n      <th>28</th>\n      <td>True</td>\n      <td>-0.041220</td>\n      <td>0.330561</td>\n      <td>0.156586</td>\n      <td>-0.036637</td>\n    </tr>\n    <tr>\n      <th>29</th>\n      <td>True</td>\n      <td>0.012061</td>\n      <td>0.228789</td>\n      <td>-0.114375</td>\n      <td>0.074887</td>\n    </tr>\n    <tr>\n      <th>30</th>\n      <td>True</td>\n      <td>0.425209</td>\n      <td>-0.329074</td>\n      <td>0.310834</td>\n      <td>-0.045128</td>\n    </tr>\n    <tr>\n      <th>31</th>\n      <td>True</td>\n      <td>-0.137511</td>\n      <td>-0.659136</td>\n      <td>0.083614</td>\n      <td>-0.108885</td>\n    </tr>\n    <tr>\n      <th>32</th>\n      <td>True</td>\n      <td>-0.558812</td>\n      <td>-0.127868</td>\n      <td>0.257947</td>\n      <td>0.060819</td>\n    </tr>\n    <tr>\n      <th>33</th>\n      <td>True</td>\n      <td>0.177243</td>\n      <td>-0.071211</td>\n      <td>-0.180815</td>\n      <td>0.052917</td>\n    </tr>\n    <tr>\n      <th>34</th>\n      <td>True</td>\n      <td>0.436044</td>\n      <td>-0.042492</td>\n      <td>0.035361</td>\n      <td>-0.014421</td>\n    </tr>\n    <tr>\n      <th>35</th>\n      <td>True</td>\n      <td>-0.231507</td>\n      <td>0.399190</td>\n      <td>0.298259</td>\n      <td>-0.107330</td>\n    </tr>\n    <tr>\n      <th>36</th>\n      <td>True</td>\n      <td>-0.165658</td>\n      <td>-0.253428</td>\n      <td>0.116946</td>\n      <td>-0.018711</td>\n    </tr>\n    <tr>\n      <th>37</th>\n      <td>True</td>\n      <td>-0.178055</td>\n      <td>0.024762</td>\n      <td>0.025156</td>\n      <td>0.089883</td>\n    </tr>\n    <tr>\n      <th>38</th>\n      <td>True</td>\n      <td>0.066646</td>\n      <td>-0.163965</td>\n      <td>0.038951</td>\n      <td>0.046280</td>\n    </tr>\n    <tr>\n      <th>39</th>\n      <td>True</td>\n      <td>0.129811</td>\n      <td>-0.564665</td>\n      <td>-0.156538</td>\n      <td>0.145943</td>\n    </tr>\n    <tr>\n      <th>40</th>\n      <td>True</td>\n      <td>0.424454</td>\n      <td>0.110127</td>\n      <td>-0.093571</td>\n      <td>-0.021872</td>\n    </tr>\n    <tr>\n      <th>41</th>\n      <td>True</td>\n      <td>0.364261</td>\n      <td>-0.504665</td>\n      <td>0.068439</td>\n      <td>-0.083113</td>\n    </tr>\n    <tr>\n      <th>42</th>\n      <td>True</td>\n      <td>-0.481682</td>\n      <td>-0.082136</td>\n      <td>-0.001273</td>\n      <td>-0.015987</td>\n    </tr>\n    <tr>\n      <th>43</th>\n      <td>True</td>\n      <td>-0.133534</td>\n      <td>-0.289140</td>\n      <td>0.298259</td>\n      <td>-0.131400</td>\n    </tr>\n    <tr>\n      <th>44</th>\n      <td>True</td>\n      <td>-0.267933</td>\n      <td>-0.080339</td>\n      <td>0.044921</td>\n      <td>0.102094</td>\n    </tr>\n    <tr>\n      <th>...</th>\n      <td>...</td>\n      <td>...</td>\n      <td>...</td>\n      <td>...</td>\n      <td>...</td>\n    </tr>\n    <tr>\n      <th>120</th>\n      <td>True</td>\n      <td>0.025164</td>\n      <td>-0.136024</td>\n      <td>-0.194511</td>\n      <td>0.017999</td>\n    </tr>\n    <tr>\n      <th>121</th>\n      <td>True</td>\n      <td>-0.137005</td>\n      <td>0.894384</td>\n      <td>0.315524</td>\n      <td>-0.035082</td>\n    </tr>\n    <tr>\n      <th>122</th>\n      <td>True</td>\n      <td>-0.547250</td>\n      <td>0.035151</td>\n      <td>-0.079235</td>\n      <td>0.115381</td>\n    </tr>\n    <tr>\n      <th>123</th>\n      <td>True</td>\n      <td>0.323844</td>\n      <td>0.075832</td>\n      <td>-0.417425</td>\n      <td>0.060494</td>\n    </tr>\n    <tr>\n      <th>124</th>\n      <td>True</td>\n      <td>-0.167933</td>\n      <td>-0.127788</td>\n      <td>0.012892</td>\n      <td>0.088665</td>\n    </tr>\n    <tr>\n      <th>125</th>\n      <td>True</td>\n      <td>0.406552</td>\n      <td>-0.292925</td>\n      <td>0.079020</td>\n      <td>0.054041</td>\n    </tr>\n    <tr>\n      <th>126</th>\n      <td>True</td>\n      <td>-0.476350</td>\n      <td>0.172977</td>\n      <td>-0.386821</td>\n      <td>0.218439</td>\n    </tr>\n    <tr>\n      <th>127</th>\n      <td>True</td>\n      <td>0.106985</td>\n      <td>-0.266431</td>\n      <td>-0.050381</td>\n      <td>0.027323</td>\n    </tr>\n    <tr>\n      <th>128</th>\n      <td>True</td>\n      <td>0.077063</td>\n      <td>-0.243836</td>\n      <td>0.046464</td>\n      <td>-0.138192</td>\n    </tr>\n    <tr>\n      <th>129</th>\n      <td>True</td>\n      <td>0.550868</td>\n      <td>0.036047</td>\n      <td>0.318925</td>\n      <td>0.089248</td>\n    </tr>\n    <tr>\n      <th>130</th>\n      <td>True</td>\n      <td>0.096016</td>\n      <td>-0.162645</td>\n      <td>0.050100</td>\n      <td>-0.372677</td>\n    </tr>\n    <tr>\n      <th>131</th>\n      <td>True</td>\n      <td>-0.513132</td>\n      <td>-0.004219</td>\n      <td>0.008801</td>\n      <td>0.420013</td>\n    </tr>\n    <tr>\n      <th>132</th>\n      <td>True</td>\n      <td>0.144148</td>\n      <td>-0.200842</td>\n      <td>-0.041894</td>\n      <td>0.132851</td>\n    </tr>\n    <tr>\n      <th>133</th>\n      <td>True</td>\n      <td>-0.057202</td>\n      <td>0.009968</td>\n      <td>0.110885</td>\n      <td>-0.352166</td>\n    </tr>\n    <tr>\n      <th>134</th>\n      <td>True</td>\n      <td>-0.163719</td>\n      <td>0.388585</td>\n      <td>0.139800</td>\n      <td>0.076792</td>\n    </tr>\n    <tr>\n      <th>135</th>\n      <td>True</td>\n      <td>-0.640201</td>\n      <td>-0.030783</td>\n      <td>-0.126998</td>\n      <td>0.009596</td>\n    </tr>\n    <tr>\n      <th>136</th>\n      <td>True</td>\n      <td>-0.717139</td>\n      <td>0.314143</td>\n      <td>-0.107563</td>\n      <td>0.066765</td>\n    </tr>\n    <tr>\n      <th>137</th>\n      <td>True</td>\n      <td>0.243336</td>\n      <td>-0.018113</td>\n      <td>-0.298671</td>\n      <td>0.180277</td>\n    </tr>\n    <tr>\n      <th>138</th>\n      <td>True</td>\n      <td>0.191540</td>\n      <td>-0.072986</td>\n      <td>0.056894</td>\n      <td>0.003261</td>\n    </tr>\n    <tr>\n      <th>139</th>\n      <td>True</td>\n      <td>0.061249</td>\n      <td>-0.083352</td>\n      <td>-0.069254</td>\n      <td>0.206898</td>\n    </tr>\n    <tr>\n      <th>140</th>\n      <td>True</td>\n      <td>-0.633765</td>\n      <td>0.563859</td>\n      <td>-0.168438</td>\n      <td>-0.082782</td>\n    </tr>\n    <tr>\n      <th>141</th>\n      <td>True</td>\n      <td>-0.409472</td>\n      <td>-0.021940</td>\n      <td>0.146490</td>\n      <td>0.082067</td>\n    </tr>\n    <tr>\n      <th>142</th>\n      <td>True</td>\n      <td>0.599579</td>\n      <td>-0.003009</td>\n      <td>0.016226</td>\n      <td>-0.097633</td>\n    </tr>\n    <tr>\n      <th>143</th>\n      <td>True</td>\n      <td>0.501069</td>\n      <td>-0.197719</td>\n      <td>-0.036364</td>\n      <td>0.185432</td>\n    </tr>\n    <tr>\n      <th>144</th>\n      <td>True</td>\n      <td>-0.412397</td>\n      <td>0.207316</td>\n      <td>-0.088639</td>\n      <td>0.142911</td>\n    </tr>\n    <tr>\n      <th>145</th>\n      <td>True</td>\n      <td>-0.229200</td>\n      <td>0.001030</td>\n      <td>0.305445</td>\n      <td>0.015772</td>\n    </tr>\n    <tr>\n      <th>146</th>\n      <td>True</td>\n      <td>0.973753</td>\n      <td>0.086685</td>\n      <td>-0.108572</td>\n      <td>0.073597</td>\n    </tr>\n    <tr>\n      <th>147</th>\n      <td>True</td>\n      <td>-0.533829</td>\n      <td>-0.172020</td>\n      <td>0.406599</td>\n      <td>0.105567</td>\n    </tr>\n    <tr>\n      <th>148</th>\n      <td>True</td>\n      <td>-0.059119</td>\n      <td>0.112697</td>\n      <td>0.093988</td>\n      <td>0.044750</td>\n    </tr>\n    <tr>\n      <th>149</th>\n      <td>True</td>\n      <td>-0.386798</td>\n      <td>0.108853</td>\n      <td>-0.026783</td>\n      <td>-0.071636</td>\n    </tr>\n  </tbody>\n</table>\n<p>135 rows × 5 columns</p>\n</div>"
     },
     "execution_count": 17,
     "metadata": {},
     "output_type": "execute_result"
    }
   ],
   "source": [
    "diff = mb.repredict_data_difference(model=model, data=data, reprediction=pred)\n",
    "diff"
   ],
   "metadata": {
    "collapsed": false,
    "pycharm": {
     "name": "#%%\n"
    }
   }
  },
  {
   "cell_type": "markdown",
   "source": [
    "### Writing it out"
   ],
   "metadata": {
    "collapsed": false,
    "pycharm": {
     "name": "#%% md\n"
    }
   }
  },
  {
   "cell_type": "code",
   "execution_count": 18,
   "outputs": [],
   "source": [
    "pred.to_csv(model_path + model_name + '_reprediction.csv', index=None)\n",
    "diff.to_csv(model_path + model_name + '_reprediction_difference.csv', index=None)\n",
    "data.to_csv(model_path + model_name + '_data.csv', index=None)\n"
   ],
   "metadata": {
    "collapsed": false,
    "pycharm": {
     "name": "#%%\n"
    }
   }
  },
  {
   "cell_type": "code",
   "execution_count": null,
   "outputs": [],
   "source": [
    "\n"
   ],
   "metadata": {
    "collapsed": false,
    "pycharm": {
     "name": "#%%\n"
    }
   }
  }
 ],
 "metadata": {
  "kernelspec": {
   "display_name": "Python 3",
   "language": "python",
   "name": "python3"
  },
  "language_info": {
   "codemirror_mode": {
    "name": "ipython",
    "version": 2
   },
   "file_extension": ".py",
   "mimetype": "text/x-python",
   "name": "python",
   "nbconvert_exporter": "python",
   "pygments_lexer": "ipython2",
   "version": "2.7.6"
  }
 },
 "nbformat": 4,
 "nbformat_minor": 0
}